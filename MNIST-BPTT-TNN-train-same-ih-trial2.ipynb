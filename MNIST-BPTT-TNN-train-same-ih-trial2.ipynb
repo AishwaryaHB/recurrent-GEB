{
 "cells": [
  {
   "cell_type": "markdown",
   "id": "30389760",
   "metadata": {},
   "source": [
    "#### Imports"
   ]
  },
  {
   "cell_type": "code",
   "execution_count": 1,
   "id": "8411d46c",
   "metadata": {},
   "outputs": [],
   "source": [
    "import numpy as np\n",
    "import matplotlib.pyplot as plt\n",
    "import os\n",
    "import sys\n",
    "sys.path.append(\"..\")"
   ]
  },
  {
   "cell_type": "code",
   "execution_count": 2,
   "id": "1301b34f",
   "metadata": {},
   "outputs": [],
   "source": [
    "%matplotlib inline\n",
    "%config InlineBackend.figure_format='retina'"
   ]
  },
  {
   "cell_type": "code",
   "execution_count": 3,
   "id": "3748d4b4",
   "metadata": {},
   "outputs": [],
   "source": [
    "import torch\n",
    "from torch.autograd import Variable\n",
    "import torch.nn as nn\n",
    "import torch.nn.functional as F\n",
    "import torch.optim as optim\n",
    "import torchvision"
   ]
  },
  {
   "cell_type": "code",
   "execution_count": 4,
   "id": "ef3bc9e4",
   "metadata": {},
   "outputs": [],
   "source": [
    "from tqdm import tqdm"
   ]
  },
  {
   "cell_type": "code",
   "execution_count": 5,
   "id": "685da74a",
   "metadata": {},
   "outputs": [],
   "source": [
    "from bptt_tgeb_mnist_architecture import *"
   ]
  },
  {
   "cell_type": "markdown",
   "id": "ca02ea79",
   "metadata": {},
   "source": [
    "#### Test for CUDA"
   ]
  },
  {
   "cell_type": "code",
   "execution_count": 6,
   "id": "f60aa8a0",
   "metadata": {},
   "outputs": [
    {
     "name": "stdout",
     "output_type": "stream",
     "text": [
      "No GPU, training on CPU\n"
     ]
    }
   ],
   "source": [
    "train_on_gpu = torch.cuda.is_available()\n",
    "\n",
    "if not train_on_gpu:\n",
    "    print('No GPU, training on CPU')\n",
    "    dev = torch.device('cpu')\n",
    "else:\n",
    "    print('GPU found, training on GPU')\n",
    "    dev = torch.device('cuda')"
   ]
  },
  {
   "cell_type": "markdown",
   "id": "0ca8ecaf",
   "metadata": {},
   "source": [
    "#### Load MNIST"
   ]
  },
  {
   "cell_type": "code",
   "execution_count": 7,
   "id": "9bb6cc58",
   "metadata": {},
   "outputs": [],
   "source": [
    "## Make sure batch_size = 1 for now!!\n",
    "\n",
    "def load_mnist(batch_size=1, shuffle_train=True):\n",
    "    transform = torchvision.transforms.Compose(\n",
    "        [torchvision.transforms.ToTensor(),\n",
    "        torchvision.transforms.Normalize((0.5,), (0.5,))])\n",
    "    train_set = torchvision.datasets.MNIST(\"../data\", train=True, download=True, transform=transform)\n",
    "    test_set = torchvision.datasets.MNIST(\"../data\", train=False, download=True, transform=transform)\n",
    "    train_loader = torch.utils.data.DataLoader(train_set, batch_size=batch_size, shuffle=shuffle_train)\n",
    "    test_loader = torch.utils.data.DataLoader(test_set, batch_size=batch_size, shuffle=False)\n",
    "    return train_loader, test_loader"
   ]
  },
  {
   "cell_type": "code",
   "execution_count": 8,
   "id": "eeaf7f58",
   "metadata": {},
   "outputs": [],
   "source": [
    "mnist_train_loader, mnist_test_loader = load_mnist()"
   ]
  },
  {
   "cell_type": "markdown",
   "id": "dd907886",
   "metadata": {},
   "source": [
    "#### Architectural initialisations"
   ]
  },
  {
   "cell_type": "code",
   "execution_count": 9,
   "id": "e7f44db9",
   "metadata": {},
   "outputs": [],
   "source": [
    "n_classes = 10"
   ]
  },
  {
   "cell_type": "code",
   "execution_count": 10,
   "id": "d07d5ac9",
   "metadata": {},
   "outputs": [],
   "source": [
    "input_dim = 784\n",
    "hidden_dim = 100\n",
    "output_dim = 1"
   ]
  },
  {
   "cell_type": "code",
   "execution_count": 11,
   "id": "a8088992",
   "metadata": {},
   "outputs": [],
   "source": [
    "## Gating vector\n",
    "tvec_hh = torch.zeros(n_classes,hidden_dim)\n",
    "for ii in range(n_classes):\n",
    "    t_half = torch.randint(0, 2, (1, hidden_dim//2)).float()*2 - 1\n",
    "    tvec_hh[ii,::2] = t_half\n",
    "    tvec_hh[ii,1::2] = -t_half"
   ]
  },
  {
   "cell_type": "code",
   "execution_count": 12,
   "id": "fb7e10ec",
   "metadata": {},
   "outputs": [],
   "source": [
    "# ## Gating vector\n",
    "# tvec_ih = torch.zeros(n_classes,hidden_dim)\n",
    "# for ii in range(n_classes):\n",
    "#     t_half = torch.randint(0, 2, (1, hidden_dim//2)).float()*2 - 1\n",
    "#     tvec_ih[ii,::2] = t_half\n",
    "#     tvec_ih[ii,1::2] = -t_half"
   ]
  },
  {
   "cell_type": "code",
   "execution_count": 13,
   "id": "9e8247f6",
   "metadata": {},
   "outputs": [],
   "source": [
    "tvec_ih = tvec_hh"
   ]
  },
  {
   "cell_type": "markdown",
   "id": "14be4e10",
   "metadata": {},
   "source": [
    "#### Architecture"
   ]
  },
  {
   "cell_type": "code",
   "execution_count": 14,
   "id": "4ec62672",
   "metadata": {},
   "outputs": [],
   "source": [
    "cell = RNNModule(input_dim, hidden_dim, output_dim, tvec_ih, tvec_hh)\n",
    "rnn = RNN(cell)"
   ]
  },
  {
   "cell_type": "code",
   "execution_count": 15,
   "id": "9058c749",
   "metadata": {},
   "outputs": [],
   "source": [
    "# cell.to(dev)\n",
    "# rnn.to(dev)"
   ]
  },
  {
   "cell_type": "markdown",
   "id": "447a16ef",
   "metadata": {},
   "source": [
    "#### Loss"
   ]
  },
  {
   "cell_type": "code",
   "execution_count": 16,
   "id": "9f4c563b",
   "metadata": {},
   "outputs": [],
   "source": [
    "def compute_loss(ys, ts):\n",
    "    return 0.5 * torch.sum((ys - ts)**2)"
   ]
  },
  {
   "cell_type": "code",
   "execution_count": 17,
   "id": "d8b86146",
   "metadata": {},
   "outputs": [],
   "source": [
    "criterion_ce = nn.CrossEntropyLoss()"
   ]
  },
  {
   "cell_type": "markdown",
   "id": "ca69ac2d",
   "metadata": {},
   "source": [
    "#### Clip micro gradients"
   ]
  },
  {
   "cell_type": "code",
   "execution_count": 18,
   "id": "edf8170d",
   "metadata": {},
   "outputs": [],
   "source": [
    "def clip_micro_grads(grad_tensor, minVal=-1e-7, maxVal=1e-7):\n",
    "    grad_tensor[grad_tensor==torch.clamp(grad_tensor, minVal, maxVal)] = 0\n",
    "    return grad_tensor"
   ]
  },
  {
   "cell_type": "markdown",
   "id": "835d41e1",
   "metadata": {},
   "source": [
    "#### Training loop"
   ]
  },
  {
   "cell_type": "code",
   "execution_count": 19,
   "id": "51902294",
   "metadata": {},
   "outputs": [],
   "source": [
    "params = [rnn.cell.Wih]+[rnn.cell.Whh]+[rnn.cell.Woh]"
   ]
  },
  {
   "cell_type": "code",
   "execution_count": 20,
   "id": "1d0171fc",
   "metadata": {},
   "outputs": [],
   "source": [
    "optimizer = optim.SGD(params, lr=5e-3)"
   ]
  },
  {
   "cell_type": "code",
   "execution_count": 21,
   "id": "f3d7c8e1",
   "metadata": {},
   "outputs": [],
   "source": [
    "epochs = 10"
   ]
  },
  {
   "cell_type": "code",
   "execution_count": 22,
   "id": "19df776a",
   "metadata": {},
   "outputs": [],
   "source": [
    "train_losses = np.zeros(epochs)\n",
    "train_acc = np.zeros(epochs)\n",
    "\n",
    "acc_classes = np.zeros(n_classes)"
   ]
  },
  {
   "cell_type": "code",
   "execution_count": 23,
   "id": "2a4c85a0",
   "metadata": {},
   "outputs": [],
   "source": [
    "# a = ys.float().view(1, -1)\n",
    "# b = torch.LongTensor([6])\n",
    "\n",
    "# criterion = nn.CrossEntropyLoss()\n",
    "# ll = criterion(a, b)\n",
    "# print(ll)"
   ]
  },
  {
   "cell_type": "code",
   "execution_count": 24,
   "id": "3f7f6a9e",
   "metadata": {},
   "outputs": [
    {
     "name": "stderr",
     "output_type": "stream",
     "text": [
      "100%|██████████| 10000/10000 [00:34<00:00, 293.43it/s]\n"
     ]
    },
    {
     "name": "stdout",
     "output_type": "stream",
     "text": [
      "Training loss: 1.8151166736125945\n",
      "Training acc: 0.5808\n"
     ]
    },
    {
     "name": "stderr",
     "output_type": "stream",
     "text": [
      "100%|██████████| 10000/10000 [00:35<00:00, 280.72it/s]\n"
     ]
    },
    {
     "name": "stdout",
     "output_type": "stream",
     "text": [
      "Training loss: 1.5971530517935753\n",
      "Training acc: 0.7994\n"
     ]
    },
    {
     "name": "stderr",
     "output_type": "stream",
     "text": [
      "100%|██████████| 10000/10000 [00:36<00:00, 277.31it/s]\n"
     ]
    },
    {
     "name": "stdout",
     "output_type": "stream",
     "text": [
      "Training loss: 1.5605059388518334\n",
      "Training acc: 0.8733\n"
     ]
    },
    {
     "name": "stderr",
     "output_type": "stream",
     "text": [
      "100%|██████████| 10000/10000 [00:35<00:00, 280.87it/s]\n"
     ]
    },
    {
     "name": "stdout",
     "output_type": "stream",
     "text": [
      "Training loss: 1.5401383207321167\n",
      "Training acc: 0.9124\n"
     ]
    },
    {
     "name": "stderr",
     "output_type": "stream",
     "text": [
      "100%|██████████| 10000/10000 [00:36<00:00, 271.40it/s]\n"
     ]
    },
    {
     "name": "stdout",
     "output_type": "stream",
     "text": [
      "Training loss: 1.5309971501350403\n",
      "Training acc: 0.9196\n"
     ]
    },
    {
     "name": "stderr",
     "output_type": "stream",
     "text": [
      "100%|██████████| 10000/10000 [00:38<00:00, 260.72it/s]\n"
     ]
    },
    {
     "name": "stdout",
     "output_type": "stream",
     "text": [
      "Training loss: 1.5226776613235473\n",
      "Training acc: 0.9298\n"
     ]
    },
    {
     "name": "stderr",
     "output_type": "stream",
     "text": [
      "100%|██████████| 10000/10000 [01:21<00:00, 122.61it/s]\n"
     ]
    },
    {
     "name": "stdout",
     "output_type": "stream",
     "text": [
      "Training loss: 1.515297588610649\n",
      "Training acc: 0.9353\n"
     ]
    },
    {
     "name": "stderr",
     "output_type": "stream",
     "text": [
      "100%|██████████| 10000/10000 [00:38<00:00, 261.84it/s]\n"
     ]
    },
    {
     "name": "stdout",
     "output_type": "stream",
     "text": [
      "Training loss: 1.513420859515667\n",
      "Training acc: 0.9364\n"
     ]
    },
    {
     "name": "stderr",
     "output_type": "stream",
     "text": [
      "100%|██████████| 10000/10000 [00:39<00:00, 252.50it/s]\n"
     ]
    },
    {
     "name": "stdout",
     "output_type": "stream",
     "text": [
      "Training loss: 1.5090141604542733\n",
      "Training acc: 0.9413\n"
     ]
    },
    {
     "name": "stderr",
     "output_type": "stream",
     "text": [
      "100%|██████████| 10000/10000 [00:45<00:00, 220.99it/s]"
     ]
    },
    {
     "name": "stdout",
     "output_type": "stream",
     "text": [
      "Training loss: 1.5068807791233063\n",
      "Training acc: 0.9464\n"
     ]
    },
    {
     "name": "stderr",
     "output_type": "stream",
     "text": [
      "\n"
     ]
    }
   ],
   "source": [
    "for e in range(epochs):\n",
    "    \n",
    "    running_loss = 0\n",
    "    running_acc = 0\n",
    "    \n",
    "    for image, label in tqdm(mnist_test_loader):\n",
    "        \n",
    "        ## Clear older gradients\n",
    "        optimizer.zero_grad()\n",
    "        \n",
    "        ## Change to appropriate shapes!!\n",
    "        image = torch.squeeze(image).view(1,-1)\n",
    "        image = image.repeat(n_classes,1)\n",
    "\n",
    "        xs = image\n",
    "        hp = torch.zeros(cell.hid_dim) ## very first hidden state is the zero vector\n",
    "        ts = torch.LongTensor(label)\n",
    "        \n",
    "        if train_on_gpu:\n",
    "            xs, hp, ts = xs.cuda(), hp.cuda(), ts.cuda()\n",
    "\n",
    "        ## Forward pass\n",
    "        ys, hs = rnn.forward(xs, hp)\n",
    "#         loss = compute_loss(ys, ts)\n",
    "        loss = criterion_ce(ys.float().view(1, -1),ts)\n",
    "\n",
    "        ## Compute gradients w/ Backprop (autograd)\n",
    "        loss.backward()\n",
    "        \n",
    "        ## update weights\n",
    "        optimizer.step()\n",
    "        \n",
    "        ## update loss\n",
    "        running_loss += loss.item()\n",
    "        \n",
    "        ##check if sample is correctly classified\n",
    "        pred_class = torch.argmax(ys)\n",
    "        true_class = ts\n",
    "        if (pred_class-true_class) == 0:\n",
    "            running_acc +=1\n",
    "        acc_classes[int(true_class[0])] += 1\n",
    "    \n",
    "    train_loss = running_loss\n",
    "    train_acc = running_acc\n",
    "    print(f\"Training loss: {running_loss/len(mnist_test_loader)}\")\n",
    "    print(f\"Training acc: {running_acc/len(mnist_test_loader)}\")"
   ]
  },
  {
   "cell_type": "code",
   "execution_count": null,
   "id": "4ff1ab94",
   "metadata": {},
   "outputs": [],
   "source": []
  },
  {
   "cell_type": "code",
   "execution_count": null,
   "id": "a3b08cbe",
   "metadata": {},
   "outputs": [],
   "source": []
  },
  {
   "cell_type": "code",
   "execution_count": null,
   "id": "37a5ba7e",
   "metadata": {},
   "outputs": [],
   "source": []
  },
  {
   "cell_type": "code",
   "execution_count": null,
   "id": "eb6d3df8",
   "metadata": {},
   "outputs": [],
   "source": []
  },
  {
   "cell_type": "code",
   "execution_count": null,
   "id": "413c614c",
   "metadata": {},
   "outputs": [],
   "source": []
  },
  {
   "cell_type": "code",
   "execution_count": null,
   "id": "f9f3d506",
   "metadata": {},
   "outputs": [],
   "source": []
  },
  {
   "cell_type": "code",
   "execution_count": null,
   "id": "cf156322",
   "metadata": {},
   "outputs": [],
   "source": []
  },
  {
   "cell_type": "code",
   "execution_count": null,
   "id": "ef20d08f",
   "metadata": {},
   "outputs": [],
   "source": []
  },
  {
   "cell_type": "code",
   "execution_count": null,
   "id": "adbe3d78",
   "metadata": {},
   "outputs": [],
   "source": []
  },
  {
   "cell_type": "code",
   "execution_count": null,
   "id": "813117db",
   "metadata": {},
   "outputs": [],
   "source": []
  },
  {
   "cell_type": "code",
   "execution_count": null,
   "id": "87ca605a",
   "metadata": {},
   "outputs": [],
   "source": []
  },
  {
   "cell_type": "code",
   "execution_count": null,
   "id": "b1946913",
   "metadata": {},
   "outputs": [],
   "source": []
  },
  {
   "cell_type": "code",
   "execution_count": null,
   "id": "7e8c1b72",
   "metadata": {},
   "outputs": [],
   "source": []
  },
  {
   "cell_type": "code",
   "execution_count": null,
   "id": "93c47d2d",
   "metadata": {},
   "outputs": [],
   "source": []
  },
  {
   "cell_type": "code",
   "execution_count": null,
   "id": "886a5801",
   "metadata": {},
   "outputs": [],
   "source": []
  },
  {
   "cell_type": "code",
   "execution_count": null,
   "id": "94ded98b",
   "metadata": {},
   "outputs": [],
   "source": []
  },
  {
   "cell_type": "code",
   "execution_count": null,
   "id": "3f817e42",
   "metadata": {},
   "outputs": [],
   "source": []
  }
 ],
 "metadata": {
  "kernelspec": {
   "display_name": "Python 3 (ipykernel)",
   "language": "python",
   "name": "python3"
  },
  "language_info": {
   "codemirror_mode": {
    "name": "ipython",
    "version": 3
   },
   "file_extension": ".py",
   "mimetype": "text/x-python",
   "name": "python",
   "nbconvert_exporter": "python",
   "pygments_lexer": "ipython3",
   "version": "3.7.11"
  }
 },
 "nbformat": 4,
 "nbformat_minor": 5
}
