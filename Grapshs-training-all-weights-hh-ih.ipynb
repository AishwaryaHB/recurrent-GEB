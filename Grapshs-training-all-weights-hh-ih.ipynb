{
 "cells": [
  {
   "cell_type": "markdown",
   "id": "5d3735a3",
   "metadata": {},
   "source": [
    "#### Imports"
   ]
  },
  {
   "cell_type": "code",
   "execution_count": 1,
   "id": "3bc59630",
   "metadata": {},
   "outputs": [],
   "source": [
    "import numpy as np\n",
    "import matplotlib.pyplot as plt\n",
    "import os\n",
    "import sys\n",
    "sys.path.append(\"..\")"
   ]
  },
  {
   "cell_type": "code",
   "execution_count": 2,
   "id": "55ba5f44",
   "metadata": {},
   "outputs": [],
   "source": [
    "%matplotlib inline\n",
    "%config InlineBackend.figure_format='retina'"
   ]
  },
  {
   "cell_type": "code",
   "execution_count": 3,
   "id": "de56ebf0",
   "metadata": {},
   "outputs": [],
   "source": [
    "import torch\n",
    "from torch.autograd import Variable\n",
    "import torch.nn as nn\n",
    "import torch.nn.functional as F\n",
    "import torch.optim as optim\n",
    "import torchvision"
   ]
  },
  {
   "cell_type": "code",
   "execution_count": 4,
   "id": "c7fe9d12",
   "metadata": {},
   "outputs": [],
   "source": [
    "from tqdm import tqdm"
   ]
  },
  {
   "cell_type": "code",
   "execution_count": 5,
   "id": "b27da274",
   "metadata": {},
   "outputs": [],
   "source": [
    "from bptt_tgeb_mnist_architecture import *"
   ]
  },
  {
   "cell_type": "markdown",
   "id": "7b667f72",
   "metadata": {},
   "source": [
    "#### Test for CUDA"
   ]
  },
  {
   "cell_type": "code",
   "execution_count": 6,
   "id": "c66875e5",
   "metadata": {},
   "outputs": [
    {
     "name": "stdout",
     "output_type": "stream",
     "text": [
      "No GPU, training on CPU\n"
     ]
    }
   ],
   "source": [
    "train_on_gpu = torch.cuda.is_available()\n",
    "\n",
    "if not train_on_gpu:\n",
    "    print('No GPU, training on CPU')\n",
    "    dev = torch.device('cpu')\n",
    "else:\n",
    "    print('GPU found, training on GPU')\n",
    "    dev = torch.device('cuda')"
   ]
  },
  {
   "cell_type": "markdown",
   "id": "6d4990d2",
   "metadata": {},
   "source": [
    "#### Load MNIST"
   ]
  },
  {
   "cell_type": "code",
   "execution_count": 7,
   "id": "b6ba98f0",
   "metadata": {},
   "outputs": [],
   "source": [
    "## Make sure batch_size = 1 for now!!\n",
    "\n",
    "def load_mnist(batch_size=1, shuffle_train=True):\n",
    "    transform = torchvision.transforms.Compose(\n",
    "        [torchvision.transforms.ToTensor(),\n",
    "        torchvision.transforms.Normalize((0.5,), (0.5,))])\n",
    "    train_set = torchvision.datasets.MNIST(\"../data\", train=True, download=True, transform=transform)\n",
    "    test_set = torchvision.datasets.MNIST(\"../data\", train=False, download=True, transform=transform)\n",
    "    train_loader = torch.utils.data.DataLoader(train_set, batch_size=batch_size, shuffle=shuffle_train)\n",
    "    test_loader = torch.utils.data.DataLoader(test_set, batch_size=batch_size, shuffle=False)\n",
    "    return train_loader, test_loader"
   ]
  },
  {
   "cell_type": "code",
   "execution_count": 8,
   "id": "68da493e",
   "metadata": {},
   "outputs": [],
   "source": [
    "mnist_train_loader, mnist_test_loader = load_mnist()"
   ]
  },
  {
   "cell_type": "markdown",
   "id": "f1896c38",
   "metadata": {},
   "source": [
    "#### Architectural Initialisations"
   ]
  },
  {
   "cell_type": "code",
   "execution_count": 9,
   "id": "67cd5425",
   "metadata": {},
   "outputs": [],
   "source": [
    "n_classes = 10"
   ]
  },
  {
   "cell_type": "code",
   "execution_count": 10,
   "id": "09d84cb9",
   "metadata": {},
   "outputs": [],
   "source": [
    "input_dim = 784\n",
    "hidden_dim = 100\n",
    "output_dim = 1"
   ]
  },
  {
   "cell_type": "code",
   "execution_count": 11,
   "id": "fe9898c2",
   "metadata": {},
   "outputs": [],
   "source": [
    "## Gating vector\n",
    "tvec_hh = torch.zeros(n_classes,hidden_dim)\n",
    "for ii in range(n_classes):\n",
    "    t_half = torch.randint(0, 2, (1, hidden_dim//2)).float()*2 - 1\n",
    "    tvec_hh[ii,::2] = t_half\n",
    "    tvec_hh[ii,1::2] = -t_half"
   ]
  },
  {
   "cell_type": "code",
   "execution_count": 12,
   "id": "762112e3",
   "metadata": {},
   "outputs": [],
   "source": [
    "## Gating vector\n",
    "tvec_ih = torch.zeros(n_classes,hidden_dim)\n",
    "for ii in range(n_classes):\n",
    "    t_half = torch.randint(0, 2, (1, hidden_dim//2)).float()*2 - 1\n",
    "    tvec_ih[ii,::2] = t_half\n",
    "    tvec_ih[ii,1::2] = -t_half"
   ]
  },
  {
   "cell_type": "code",
   "execution_count": 13,
   "id": "b622ed2d",
   "metadata": {},
   "outputs": [],
   "source": [
    "# tvec_ih = tvec_hh"
   ]
  },
  {
   "cell_type": "markdown",
   "id": "68642ceb",
   "metadata": {},
   "source": [
    "#### Architecture"
   ]
  },
  {
   "cell_type": "code",
   "execution_count": 14,
   "id": "f8349881",
   "metadata": {},
   "outputs": [],
   "source": [
    "# cell = RNNModule(input_dim, hidden_dim, output_dim, tvec_ih, tvec_hh)\n",
    "# rnn = RNN(cell)"
   ]
  },
  {
   "cell_type": "markdown",
   "id": "ac82a3c5",
   "metadata": {},
   "source": [
    "#### Loss"
   ]
  },
  {
   "cell_type": "code",
   "execution_count": 15,
   "id": "8c71fe35",
   "metadata": {},
   "outputs": [],
   "source": [
    "criterion_ce = nn.CrossEntropyLoss()"
   ]
  },
  {
   "cell_type": "markdown",
   "id": "2c85a6ae",
   "metadata": {},
   "source": [
    "#### Training loop"
   ]
  },
  {
   "cell_type": "code",
   "execution_count": 16,
   "id": "830996bf",
   "metadata": {},
   "outputs": [],
   "source": [
    "# params = [rnn.cell.Wih]+[rnn.cell.Whh]+[rnn.cell.Woh]"
   ]
  },
  {
   "cell_type": "code",
   "execution_count": 17,
   "id": "76b66131",
   "metadata": {},
   "outputs": [],
   "source": [
    "# optimizer = optim.SGD(params, lr=5e-3)"
   ]
  },
  {
   "cell_type": "code",
   "execution_count": 18,
   "id": "f910bf85",
   "metadata": {},
   "outputs": [],
   "source": [
    "epochs = 10"
   ]
  },
  {
   "cell_type": "code",
   "execution_count": 19,
   "id": "318024ed",
   "metadata": {},
   "outputs": [],
   "source": [
    "nRuns = 3"
   ]
  },
  {
   "cell_type": "code",
   "execution_count": 20,
   "id": "1e86f676",
   "metadata": {},
   "outputs": [],
   "source": [
    "train_losses = np.zeros((nRuns,epochs))\n",
    "train_acc = np.zeros((nRuns,epochs))\n",
    "\n",
    "acc_classes = np.zeros(n_classes)"
   ]
  },
  {
   "cell_type": "code",
   "execution_count": 21,
   "id": "7c940a89",
   "metadata": {
    "scrolled": true
   },
   "outputs": [
    {
     "name": "stderr",
     "output_type": "stream",
     "text": [
      "100%|██████████| 10000/10000 [01:20<00:00, 123.70it/s]\n"
     ]
    },
    {
     "name": "stdout",
     "output_type": "stream",
     "text": [
      "Training loss: 1.842613744199276\n",
      "Training acc: 0.5458\n"
     ]
    },
    {
     "name": "stderr",
     "output_type": "stream",
     "text": [
      "100%|██████████| 10000/10000 [01:34<00:00, 106.08it/s]\n"
     ]
    },
    {
     "name": "stdout",
     "output_type": "stream",
     "text": [
      "Training loss: 1.5964221465468407\n",
      "Training acc: 0.8012\n"
     ]
    },
    {
     "name": "stderr",
     "output_type": "stream",
     "text": [
      "100%|██████████| 10000/10000 [02:16<00:00, 73.06it/s]\n"
     ]
    },
    {
     "name": "stdout",
     "output_type": "stream",
     "text": [
      "Training loss: 1.563451170384884\n",
      "Training acc: 0.8375\n"
     ]
    },
    {
     "name": "stderr",
     "output_type": "stream",
     "text": [
      "100%|██████████| 10000/10000 [01:18<00:00, 128.13it/s]\n"
     ]
    },
    {
     "name": "stdout",
     "output_type": "stream",
     "text": [
      "Training loss: 1.547852477478981\n",
      "Training acc: 0.8797\n"
     ]
    },
    {
     "name": "stderr",
     "output_type": "stream",
     "text": [
      "100%|██████████| 10000/10000 [01:22<00:00, 120.62it/s]\n"
     ]
    },
    {
     "name": "stdout",
     "output_type": "stream",
     "text": [
      "Training loss: 1.5361614840269089\n",
      "Training acc: 0.9064\n"
     ]
    },
    {
     "name": "stderr",
     "output_type": "stream",
     "text": [
      "100%|██████████| 10000/10000 [01:31<00:00, 108.86it/s]\n"
     ]
    },
    {
     "name": "stdout",
     "output_type": "stream",
     "text": [
      "Training loss: 1.526982453751564\n",
      "Training acc: 0.9212\n"
     ]
    },
    {
     "name": "stderr",
     "output_type": "stream",
     "text": [
      "100%|██████████| 10000/10000 [01:33<00:00, 107.52it/s]\n"
     ]
    },
    {
     "name": "stdout",
     "output_type": "stream",
     "text": [
      "Training loss: 1.5212139238238334\n",
      "Training acc: 0.9232\n"
     ]
    },
    {
     "name": "stderr",
     "output_type": "stream",
     "text": [
      "100%|██████████| 10000/10000 [01:43<00:00, 96.99it/s]\n"
     ]
    },
    {
     "name": "stdout",
     "output_type": "stream",
     "text": [
      "Training loss: 1.5170430536031723\n",
      "Training acc: 0.9339\n"
     ]
    },
    {
     "name": "stderr",
     "output_type": "stream",
     "text": [
      "100%|██████████| 10000/10000 [01:59<00:00, 83.96it/s]\n"
     ]
    },
    {
     "name": "stdout",
     "output_type": "stream",
     "text": [
      "Training loss: 1.514110361123085\n",
      "Training acc: 0.9356\n"
     ]
    },
    {
     "name": "stderr",
     "output_type": "stream",
     "text": [
      "100%|██████████| 10000/10000 [02:01<00:00, 82.06it/s]\n"
     ]
    },
    {
     "name": "stdout",
     "output_type": "stream",
     "text": [
      "Training loss: 1.5091771039128303\n",
      "Training acc: 0.9406\n"
     ]
    },
    {
     "name": "stderr",
     "output_type": "stream",
     "text": [
      "100%|██████████| 10000/10000 [01:45<00:00, 94.50it/s]\n"
     ]
    },
    {
     "name": "stdout",
     "output_type": "stream",
     "text": [
      "Training loss: 1.8159673189163208\n",
      "Training acc: 0.6431\n"
     ]
    },
    {
     "name": "stderr",
     "output_type": "stream",
     "text": [
      "100%|██████████| 10000/10000 [01:55<00:00, 86.91it/s]\n"
     ]
    },
    {
     "name": "stdout",
     "output_type": "stream",
     "text": [
      "Training loss: 1.5880081775784491\n",
      "Training acc: 0.854\n"
     ]
    },
    {
     "name": "stderr",
     "output_type": "stream",
     "text": [
      "100%|██████████| 10000/10000 [01:49<00:00, 91.18it/s]\n"
     ]
    },
    {
     "name": "stdout",
     "output_type": "stream",
     "text": [
      "Training loss: 1.539299065876007\n",
      "Training acc: 0.9121\n"
     ]
    },
    {
     "name": "stderr",
     "output_type": "stream",
     "text": [
      "100%|██████████| 10000/10000 [02:04<00:00, 80.63it/s]\n"
     ]
    },
    {
     "name": "stdout",
     "output_type": "stream",
     "text": [
      "Training loss: 1.524467913365364\n",
      "Training acc: 0.9273\n"
     ]
    },
    {
     "name": "stderr",
     "output_type": "stream",
     "text": [
      "100%|██████████| 10000/10000 [01:49<00:00, 91.73it/s]\n"
     ]
    },
    {
     "name": "stdout",
     "output_type": "stream",
     "text": [
      "Training loss: 1.51003835170269\n",
      "Training acc: 0.9398\n"
     ]
    },
    {
     "name": "stderr",
     "output_type": "stream",
     "text": [
      "100%|██████████| 10000/10000 [01:46<00:00, 93.96it/s]\n"
     ]
    },
    {
     "name": "stdout",
     "output_type": "stream",
     "text": [
      "Training loss: 1.593526305794716\n",
      "Training acc: 0.8291\n"
     ]
    },
    {
     "name": "stderr",
     "output_type": "stream",
     "text": [
      "100%|██████████| 10000/10000 [02:15<00:00, 73.82it/s]\n"
     ]
    },
    {
     "name": "stdout",
     "output_type": "stream",
     "text": [
      "Training loss: 1.5348826131105422\n",
      "Training acc: 0.9164\n"
     ]
    },
    {
     "name": "stderr",
     "output_type": "stream",
     "text": [
      "100%|██████████| 10000/10000 [01:49<00:00, 91.55it/s]\n"
     ]
    },
    {
     "name": "stdout",
     "output_type": "stream",
     "text": [
      "Training loss: 1.5150229097723962\n",
      "Training acc: 0.9362\n"
     ]
    },
    {
     "name": "stderr",
     "output_type": "stream",
     "text": [
      "100%|██████████| 10000/10000 [02:10<00:00, 76.73it/s]"
     ]
    },
    {
     "name": "stdout",
     "output_type": "stream",
     "text": [
      "Training loss: 1.5098208153128625\n",
      "Training acc: 0.9394\n"
     ]
    },
    {
     "name": "stderr",
     "output_type": "stream",
     "text": [
      "\n"
     ]
    }
   ],
   "source": [
    "for run in range(nRuns):\n",
    "    \n",
    "    cell = RNNModule(input_dim, hidden_dim, output_dim, tvec_ih, tvec_hh)\n",
    "    rnn = RNN(cell)\n",
    "    \n",
    "    params = [rnn.cell.Wih]+[rnn.cell.Whh]+[rnn.cell.Woh]\n",
    "    \n",
    "    optimizer = optim.SGD(params, lr=5e-3)\n",
    "    \n",
    "    for e in range(epochs):\n",
    "        \n",
    "        running_loss = 0\n",
    "        running_acc = 0\n",
    "\n",
    "        for image, label in tqdm(mnist_test_loader):\n",
    "\n",
    "            ## Clear older gradients\n",
    "            optimizer.zero_grad()\n",
    "\n",
    "            ## Change to appropriate shapes!!\n",
    "            image = torch.squeeze(image).view(1,-1)\n",
    "            image = image.repeat(n_classes,1)\n",
    "\n",
    "            xs = image\n",
    "            hp = torch.zeros(cell.hid_dim) ## very first hidden state is the zero vector\n",
    "            ts = torch.LongTensor(label)\n",
    "\n",
    "            if train_on_gpu:\n",
    "                xs, hp, ts = xs.cuda(), hp.cuda(), ts.cuda()\n",
    "\n",
    "            ## Forward pass\n",
    "            ys, hs = rnn.forward(xs, hp)\n",
    "            loss = criterion_ce(ys.float().view(1, -1),ts)\n",
    "\n",
    "            ## Compute gradients w/ Backprop (autograd)\n",
    "            loss.backward()\n",
    "\n",
    "            ## update weights\n",
    "            optimizer.step()\n",
    "\n",
    "            ## update loss\n",
    "            running_loss += loss.item()\n",
    "\n",
    "            ##check if sample is correctly classified\n",
    "            pred_class = torch.argmax(ys)\n",
    "            true_class = ts\n",
    "            if (pred_class-true_class) == 0:\n",
    "                running_acc +=1\n",
    "            acc_classes[int(true_class[0])] += 1\n",
    "\n",
    "        \n",
    "        train_losses[run,e] = running_loss/len(mnist_test_loader)\n",
    "        train_acc[run,e] = running_acc/len(mnist_test_loader)\n",
    "        print(f\"Training loss: {running_loss/len(mnist_test_loader)}\")\n",
    "        print(f\"Training acc: {running_acc/len(mnist_test_loader)}\")"
   ]
  },
  {
   "cell_type": "code",
   "execution_count": 23,
   "id": "fb39ec17",
   "metadata": {},
   "outputs": [],
   "source": [
    "np.save('train-losses-all-weights-hh-ih-bptt',train_losses)\n",
    "np.save('train-accs-all-weights-hh-ih-bptt',train_acc)"
   ]
  },
  {
   "cell_type": "code",
   "execution_count": 24,
   "id": "ee708e08",
   "metadata": {},
   "outputs": [
    {
     "data": {
      "text/plain": [
       "array([[0.5458, 0.8012, 0.8375, 0.8797, 0.9064, 0.9212, 0.9232, 0.9339,\n",
       "        0.9356, 0.9406],\n",
       "       [0.6431, 0.854 , 0.9   , 0.9121, 0.9208, 0.9273, 0.9299, 0.9381,\n",
       "        0.9398, 0.9422],\n",
       "       [0.5936, 0.8291, 0.8717, 0.9059, 0.9164, 0.9262, 0.9267, 0.9362,\n",
       "        0.9383, 0.9394]])"
      ]
     },
     "execution_count": 24,
     "metadata": {},
     "output_type": "execute_result"
    }
   ],
   "source": [
    "train_acc"
   ]
  },
  {
   "cell_type": "code",
   "execution_count": null,
   "id": "bb05a607",
   "metadata": {},
   "outputs": [],
   "source": []
  },
  {
   "cell_type": "code",
   "execution_count": null,
   "id": "6a2bcd75",
   "metadata": {},
   "outputs": [],
   "source": []
  },
  {
   "cell_type": "code",
   "execution_count": null,
   "id": "3ad21033",
   "metadata": {},
   "outputs": [],
   "source": []
  }
 ],
 "metadata": {
  "kernelspec": {
   "display_name": "Python 3 (ipykernel)",
   "language": "python",
   "name": "python3"
  },
  "language_info": {
   "codemirror_mode": {
    "name": "ipython",
    "version": 3
   },
   "file_extension": ".py",
   "mimetype": "text/x-python",
   "name": "python",
   "nbconvert_exporter": "python",
   "pygments_lexer": "ipython3",
   "version": "3.7.11"
  }
 },
 "nbformat": 4,
 "nbformat_minor": 5
}
