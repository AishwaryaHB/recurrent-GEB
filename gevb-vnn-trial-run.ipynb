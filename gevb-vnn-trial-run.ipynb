{
 "cells": [
  {
   "cell_type": "markdown",
   "id": "3ed1bfd6",
   "metadata": {},
   "source": [
    "#### Imports"
   ]
  },
  {
   "cell_type": "code",
   "execution_count": 1,
   "id": "357c7e6d",
   "metadata": {},
   "outputs": [],
   "source": [
    "import numpy as np\n",
    "import matplotlib.pyplot as plt\n",
    "import os\n",
    "import sys\n",
    "sys.path.append(\"..\")"
   ]
  },
  {
   "cell_type": "code",
   "execution_count": 2,
   "id": "95fad286",
   "metadata": {},
   "outputs": [],
   "source": [
    "import torch\n",
    "import torch.nn as nn\n",
    "import torch.nn.functional as F\n",
    "import torch.optim as optim\n",
    "import torchvision"
   ]
  },
  {
   "cell_type": "code",
   "execution_count": 3,
   "id": "1384b335",
   "metadata": {},
   "outputs": [],
   "source": [
    "import vnn\n",
    "import vec_models\n",
    "import nonvec_models\n",
    "import init_methods\n",
    "import dfa_util"
   ]
  },
  {
   "cell_type": "markdown",
   "id": "55f5018b",
   "metadata": {},
   "source": [
    "#### Test for CUDA"
   ]
  },
  {
   "cell_type": "code",
   "execution_count": 4,
   "id": "26220ddd",
   "metadata": {},
   "outputs": [
    {
     "name": "stdout",
     "output_type": "stream",
     "text": [
      "No GPU, training on CPU\n"
     ]
    }
   ],
   "source": [
    "train_on_gpu = torch.cuda.is_available()\n",
    "\n",
    "if not train_on_gpu:\n",
    "    print('No GPU, training on CPU')\n",
    "    dev = torch.device('cpu')\n",
    "else:\n",
    "    print('GPU found, training on GPU')\n",
    "    dev = torch.device('cuda')"
   ]
  },
  {
   "cell_type": "markdown",
   "id": "8d77552e",
   "metadata": {},
   "source": [
    "#### Load MNIST "
   ]
  },
  {
   "cell_type": "code",
   "execution_count": 5,
   "id": "07b79847",
   "metadata": {},
   "outputs": [],
   "source": [
    "def load_mnist(batch_size=128, shuffle_train=True):\n",
    "    transform = torchvision.transforms.Compose(\n",
    "        [torchvision.transforms.ToTensor(),\n",
    "        torchvision.transforms.Normalize((0.5,), (0.5,))])\n",
    "    train_set = torchvision.datasets.MNIST(\"../data\", train=True, download=True, transform=transform)\n",
    "    test_set = torchvision.datasets.MNIST(\"../data\", train=False, download=True, transform=transform)\n",
    "    train_loader = torch.utils.data.DataLoader(train_set, batch_size=batch_size, shuffle=shuffle_train)\n",
    "    test_loader = torch.utils.data.DataLoader(test_set, batch_size=batch_size, shuffle=False)\n",
    "    return train_loader, test_loader"
   ]
  },
  {
   "cell_type": "markdown",
   "id": "cbd44978",
   "metadata": {},
   "source": [
    "#### Define architecture"
   ]
  },
  {
   "cell_type": "code",
   "execution_count": 6,
   "id": "ac21a318",
   "metadata": {},
   "outputs": [],
   "source": [
    "def make_mnist_vec_fc(mono=True):\n",
    "    model = nn.Sequential(\n",
    "        vnn.Linear(10, 28*28*10, 1024, first_layer=True, mono=mono), ## 1st layer doesn't need weight sharing\n",
    "        vnn.tReLU(10, 1024),\n",
    "        vnn.Linear(10, 1024, 512, mono=mono), ## \n",
    "        vnn.tReLU(10, 512),\n",
    "        vnn.Linear(10, 512, 1, mono=mono))\n",
    "    return model"
   ]
  },
  {
   "cell_type": "markdown",
   "id": "b031789f",
   "metadata": {},
   "source": [
    "#### Train model using GEVB"
   ]
  },
  {
   "cell_type": "code",
   "execution_count": 7,
   "id": "c669a740",
   "metadata": {},
   "outputs": [],
   "source": [
    "def format_input(data, flatten, vectorized):\n",
    "    if vectorized:\n",
    "        if flatten:\n",
    "            input = vnn.expand_input(torch.flatten(data, 1), 10)\n",
    "        else:\n",
    "            input = vnn.expand_input_conv(data, 10)\n",
    "    else:\n",
    "        if flatten:\n",
    "            input = torch.flatten(data, 1)\n",
    "        else:\n",
    "            input = data\n",
    "    return input"
   ]
  },
  {
   "cell_type": "code",
   "execution_count": 8,
   "id": "7835b73a",
   "metadata": {},
   "outputs": [],
   "source": [
    "def make_dir(dir_name):\n",
    "    if not os.path.exists(dir_name):\n",
    "        os.makedirs(dir_name)"
   ]
  },
  {
   "cell_type": "code",
   "execution_count": 9,
   "id": "68a037b0",
   "metadata": {},
   "outputs": [],
   "source": [
    "def files_in_dir(dir_name):\n",
    "    #filenames = sorted([os.path.join(dir_name, f) for f in os.listdir(dir_name) if os.path.isfile(os.path.join(dir_name, f))])\n",
    "    filenames = [f for f in os.listdir(dir_name) if os.path.isfile(os.path.join(dir_name, f))]\n",
    "    epochs = [int(f.split(\"_\")[1].split(\".\")[0]) for f in filenames]\n",
    "    sorted_idx = np.argsort(epochs)\n",
    "    sorted_filenames = [os.path.join(dir_name, filenames[sorted_idx[i]]) for i in range(len(filenames))]\n",
    "    return sorted_filenames"
   ]
  },
  {
   "cell_type": "code",
   "execution_count": 10,
   "id": "f0651ad8",
   "metadata": {},
   "outputs": [],
   "source": [
    "def eval_accuracy(model, loader, flatten, vectorized, device):\n",
    "    loss_sum = 0.\n",
    "    num_correct = 0\n",
    "    num_examples = 0\n",
    "    loss_fn = nn.CrossEntropyLoss(reduction=\"sum\") #note: sum, not mean here\n",
    "    for batch_idx, (data, labels) in enumerate(loader):\n",
    "        input = format_input(data, flatten, vectorized)\n",
    "        with torch.no_grad():\n",
    "            output = model(input.to(device))\n",
    "        if vectorized:\n",
    "            output = output[..., 0]\n",
    "        loss = loss_fn(output, labels.to(device)).item()\n",
    "        loss_sum += loss\n",
    "        num_correct += (output.argmax(dim=1).cpu() == labels).int().sum().item()\n",
    "        num_examples += len(data)\n",
    "    accuracy = num_correct / num_examples\n",
    "    loss = loss_sum / num_examples\n",
    "    return accuracy, loss"
   ]
  },
  {
   "cell_type": "code",
   "execution_count": 11,
   "id": "badb43c2",
   "metadata": {},
   "outputs": [],
   "source": [
    "def save_snapshot(snapshot_dir, model, opt, epoch, train_loss, train_accuracy, test_loss, test_accuracy,\n",
    "    flatten, vectorized, learning_rule):\n",
    "    torch.save({\n",
    "        'epoch': epoch,\n",
    "        'model_state_dict': model.state_dict(),\n",
    "        'optimizer_state_dict': opt.state_dict(),\n",
    "        'train_loss': train_loss,\n",
    "        'train_accuracy': train_accuracy,\n",
    "        'test_loss': test_loss,\n",
    "        'test_accuracy': test_accuracy,\n",
    "        'flatten': flatten,\n",
    "        'vectorized': vectorized,\n",
    "        'learning_rule': learning_rule,\n",
    "        'device': [p.device for p in model.parameters()][0]\n",
    "        }, \"{}/epoch_{}.pt\".format(snapshot_dir, epoch))\n",
    "    print(\"saved snapshot at epoch {}\".format(epoch))\n",
    "    print(\"train/test accuracy: {}/{}\".format(train_accuracy, test_accuracy))"
   ]
  },
  {
   "cell_type": "code",
   "execution_count": 12,
   "id": "73f12cf3",
   "metadata": {},
   "outputs": [],
   "source": [
    "def restart_from_snapshot(snapshot_dir, model, opt):\n",
    "    make_dir(snapshot_dir)\n",
    "    filenames = files_in_dir(snapshot_dir)\n",
    "    if len(filenames) > 0:\n",
    "        snapshot = torch.load(filenames[-1])\n",
    "        done_training = snapshot['train_accuracy'] == 1.\n",
    "        if not done_training:\n",
    "            model.load_state_dict(snapshot['model_state_dict'])\n",
    "            opt.load_state_dict(snapshot['optimizer_state_dict'])\n",
    "        epoch = snapshot['epoch']\n",
    "        restarted = True\n",
    "        print(\"loaded model from snapshot at epoch {}\".format(epoch))\n",
    "    else:\n",
    "        epoch = 0\n",
    "        restarted = False\n",
    "        done_training = False\n",
    "    return epoch, restarted, done_training"
   ]
  },
  {
   "cell_type": "code",
   "execution_count": 13,
   "id": "0794a9ec",
   "metadata": {},
   "outputs": [],
   "source": [
    "def train_epoch(model, opt, train_loader, flatten, vectorized, learning_rule, device):\n",
    "    avg_loss_sum = 0. #sum of batch-avg loss vals\n",
    "    num_correct = 0 #sum of correct counts\n",
    "    num_examples = 0 #total # examples\n",
    "    loss_fn = nn.CrossEntropyLoss(reduction=\"mean\")\n",
    "    for batch_idx, (data, labels) in enumerate(train_loader):\n",
    "        input = format_input(data, flatten, vectorized)\n",
    "        opt.zero_grad()\n",
    "        if vectorized:\n",
    "            #vectorized BP or DF\n",
    "            with torch.no_grad(): #makes no difference...but this proves to ourselves that there's no gradient here!\n",
    "                output = model(input.to(device))[..., 0]\n",
    "            vnn.set_model_grads(model, output, labels, learning_rule=learning_rule, reduction=\"mean\")\n",
    "            loss = loss_fn(output, labels.to(device))\n",
    "        else:\n",
    "            #unvectorized BP or DF\n",
    "            output = model(input.to(device), learning_rule=learning_rule)\n",
    "            loss = loss_fn(output, labels.to(device))\n",
    "            loss.backward()\n",
    "        opt.step()\n",
    "        if vectorized:\n",
    "            vnn.post_step_callback(model)\n",
    "        else:\n",
    "            dfa_util.post_step_callback(model)\n",
    "        avg_loss_sum += loss.item()\n",
    "        num_correct += (output.detach().argmax(dim=1).cpu() == labels).int().sum().item()\n",
    "        num_examples += len(data)\n",
    "    epoch_loss = avg_loss_sum / (batch_idx + 1)\n",
    "    epoch_accuracy = num_correct / num_examples\n",
    "    print(\"loss: {}, accuracy: {}\".format(epoch_loss, epoch_accuracy))"
   ]
  },
  {
   "cell_type": "code",
   "execution_count": 14,
   "id": "3a33bfad",
   "metadata": {},
   "outputs": [],
   "source": [
    "def train_model(snapshot_dir, model, train_loader, test_loader, eval_iter, lr, num_epochs,\n",
    "    flatten, vectorized, learning_rule, device):\n",
    "    model = model.to(device)\n",
    "    opt = optim.Adam(model.parameters(), lr=lr)\n",
    "#     _ = model(torch.randn(128, 3, 32, 32).to(device), learning_rule='df') #TODO: remove me!\n",
    "    snapshot_epoch, just_restarted, done_training = restart_from_snapshot(snapshot_dir, model, opt)\n",
    "    if done_training or snapshot_epoch >= num_epochs:\n",
    "        print(\"Loaded model already done training\")\n",
    "        return\n",
    "    for epoch in range(snapshot_epoch, num_epochs):\n",
    "        if epoch % eval_iter == 0 and not just_restarted:\n",
    "            train_accuracy, train_loss = eval_accuracy(model, train_loader, flatten, vectorized, device)\n",
    "            test_accuracy, test_loss = eval_accuracy(model, test_loader, flatten, vectorized, device)\n",
    "            save_snapshot(snapshot_dir, model, opt, epoch, train_loss, train_accuracy, test_loss, test_accuracy,\n",
    "                flatten, vectorized, learning_rule)\n",
    "            if train_accuracy == 1.0:\n",
    "                print(\"Perfect train accuracy achieved, ending training at epoch {}\".format(epoch))\n",
    "                break\n",
    "        just_restarted = False\n",
    "        train_epoch(model, opt, train_loader, flatten, vectorized, learning_rule, device)"
   ]
  },
  {
   "cell_type": "code",
   "execution_count": 19,
   "id": "0dffe416",
   "metadata": {},
   "outputs": [],
   "source": [
    "snap_dir = '../mnist_gevb_fc_trials_v2/'\n",
    "vnn_fc_mnist = make_mnist_vec_fc()\n",
    "mnist_train_loader, mnist_test_loader = load_mnist()\n",
    "eval_iter = 1\n",
    "eta = 0.001\n",
    "n_epochs = 10\n",
    "flatten_bool = True\n",
    "vec_bool = True\n",
    "rule=\"df\""
   ]
  },
  {
   "cell_type": "code",
   "execution_count": 21,
   "id": "e00a58af",
   "metadata": {},
   "outputs": [
    {
     "name": "stdout",
     "output_type": "stream",
     "text": [
      "saved snapshot at epoch 0\n",
      "train/test accuracy: 0.1076/0.1085\n",
      "loss: 1.2415843262061128, accuracy: 0.8846833333333334\n",
      "saved snapshot at epoch 1\n",
      "train/test accuracy: 0.9458/0.9404\n",
      "loss: 0.17309663021392913, accuracy: 0.94855\n",
      "saved snapshot at epoch 2\n",
      "train/test accuracy: 0.9621333333333333/0.9529\n",
      "loss: 0.13009815968906702, accuracy: 0.9594166666666667\n",
      "saved snapshot at epoch 3\n",
      "train/test accuracy: 0.9679/0.9606\n",
      "loss: 0.1103716528793769, accuracy: 0.9667166666666667\n",
      "saved snapshot at epoch 4\n",
      "train/test accuracy: 0.9760166666666666/0.9674\n",
      "loss: 0.09704019494656561, accuracy: 0.9696\n",
      "saved snapshot at epoch 5\n",
      "train/test accuracy: 0.97905/0.9685\n",
      "loss: 0.09081464730647963, accuracy: 0.9711833333333333\n",
      "saved snapshot at epoch 6\n",
      "train/test accuracy: 0.9809833333333333/0.9708\n",
      "loss: 0.08125746941297197, accuracy: 0.9741166666666666\n",
      "saved snapshot at epoch 7\n",
      "train/test accuracy: 0.9751333333333333/0.9632\n",
      "loss: 0.07072647430423672, accuracy: 0.9771166666666666\n",
      "saved snapshot at epoch 8\n",
      "train/test accuracy: 0.9790333333333333/0.966\n",
      "loss: 0.06575406054312836, accuracy: 0.9787166666666667\n",
      "saved snapshot at epoch 9\n",
      "train/test accuracy: 0.9858333333333333/0.974\n",
      "loss: 0.06498621257472792, accuracy: 0.9785333333333334\n"
     ]
    }
   ],
   "source": [
    "train_model(snap_dir, vnn_fc_mnist, mnist_train_loader, mnist_test_loader, eval_iter, eta, n_epochs,\n",
    "            flatten_bool, vec_bool, rule, dev)"
   ]
  },
  {
   "cell_type": "code",
   "execution_count": 23,
   "id": "147e6f1f",
   "metadata": {},
   "outputs": [
    {
     "data": {
      "text/plain": [
       "{'training': True,\n",
       " '_parameters': OrderedDict(),\n",
       " '_buffers': OrderedDict(),\n",
       " '_non_persistent_buffers_set': set(),\n",
       " '_backward_hooks': OrderedDict(),\n",
       " '_is_full_backward_hook': None,\n",
       " '_forward_hooks': OrderedDict(),\n",
       " '_forward_pre_hooks': OrderedDict(),\n",
       " '_state_dict_hooks': OrderedDict(),\n",
       " '_load_state_dict_pre_hooks': OrderedDict(),\n",
       " '_modules': OrderedDict([('0', Linear()),\n",
       "              ('1', tReLU()),\n",
       "              ('2', Linear()),\n",
       "              ('3', tReLU()),\n",
       "              ('4', Linear())])}"
      ]
     },
     "execution_count": 23,
     "metadata": {},
     "output_type": "execute_result"
    }
   ],
   "source": [
    "vnn_fc_mnist.__dict__"
   ]
  },
  {
   "cell_type": "code",
   "execution_count": 32,
   "id": "a387b520",
   "metadata": {},
   "outputs": [
    {
     "data": {
      "text/plain": [
       "Parameter containing:\n",
       "tensor([[-0.0318, -0.0123,  0.0246,  ...,  0.0165,  0.0091, -0.0493],\n",
       "        [ 0.0158, -0.0037, -0.0406,  ..., -0.0016,  0.0057,  0.0642],\n",
       "        [-0.0079,  0.0088,  0.0490,  ..., -0.0590, -0.0293,  0.0261],\n",
       "        ...,\n",
       "        [-0.0137, -0.0179,  0.0606,  ..., -0.0118, -0.0365, -0.0008],\n",
       "        [-0.0691, -0.0120, -0.0184,  ..., -0.0679,  0.0233,  0.0086],\n",
       "        [ 0.0751,  0.0180,  0.0244,  ...,  0.0499, -0.0412, -0.0266]])"
      ]
     },
     "execution_count": 32,
     "metadata": {},
     "output_type": "execute_result"
    }
   ],
   "source": [
    "vnn_fc_mnist._modules['0']._parameters['weight']"
   ]
  },
  {
   "cell_type": "code",
   "execution_count": 51,
   "id": "5f55c814",
   "metadata": {},
   "outputs": [
    {
     "data": {
      "text/plain": [
       "tensor([-2.,  0.,  2.])"
      ]
     },
     "execution_count": 51,
     "metadata": {},
     "output_type": "execute_result"
    }
   ],
   "source": [
    "(vnn_fc_mnist._modules['1']._parameters['t'][2] - vnn_fc_mnist._modules['1']._parameters['t'][5])"
   ]
  },
  {
   "cell_type": "code",
   "execution_count": 45,
   "id": "bf32ed31",
   "metadata": {},
   "outputs": [
    {
     "data": {
      "text/plain": [
       "torch.Size([512, 1024])"
      ]
     },
     "execution_count": 45,
     "metadata": {},
     "output_type": "execute_result"
    }
   ],
   "source": [
    "vnn_fc_mnist._modules['2']._parameters['weight'].shape"
   ]
  },
  {
   "cell_type": "code",
   "execution_count": 58,
   "id": "07179369",
   "metadata": {},
   "outputs": [
    {
     "data": {
      "text/plain": [
       "torch.Size([1024, 7840])"
      ]
     },
     "execution_count": 58,
     "metadata": {},
     "output_type": "execute_result"
    }
   ],
   "source": [
    "vnn_fc_mnist._modules['0']._parameters['weight'].shape"
   ]
  },
  {
   "cell_type": "code",
   "execution_count": null,
   "id": "ad27c12f",
   "metadata": {},
   "outputs": [],
   "source": []
  },
  {
   "cell_type": "code",
   "execution_count": null,
   "id": "695f5d5c",
   "metadata": {},
   "outputs": [],
   "source": []
  }
 ],
 "metadata": {
  "kernelspec": {
   "display_name": "Python 3 (ipykernel)",
   "language": "python",
   "name": "python3"
  },
  "language_info": {
   "codemirror_mode": {
    "name": "ipython",
    "version": 3
   },
   "file_extension": ".py",
   "mimetype": "text/x-python",
   "name": "python",
   "nbconvert_exporter": "python",
   "pygments_lexer": "ipython3",
   "version": "3.7.11"
  }
 },
 "nbformat": 4,
 "nbformat_minor": 5
}
