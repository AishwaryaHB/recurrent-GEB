{
 "cells": [
  {
   "cell_type": "markdown",
   "id": "21c9a47c",
   "metadata": {},
   "source": [
    "#### Imports"
   ]
  },
  {
   "cell_type": "code",
   "execution_count": 1,
   "id": "dd238e05",
   "metadata": {},
   "outputs": [],
   "source": [
    "import numpy as np\n",
    "import matplotlib.pyplot as plt\n",
    "import os\n",
    "import sys\n",
    "sys.path.append(\"..\")"
   ]
  },
  {
   "cell_type": "code",
   "execution_count": 2,
   "id": "b388dd0d",
   "metadata": {},
   "outputs": [],
   "source": [
    "%matplotlib inline\n",
    "%config InlineBackend.figure_format='retina'"
   ]
  },
  {
   "cell_type": "code",
   "execution_count": 3,
   "id": "fdec70be",
   "metadata": {},
   "outputs": [],
   "source": [
    "import torch\n",
    "from torch.autograd import Variable\n",
    "import torch.nn as nn\n",
    "import torch.nn.functional as F\n",
    "import torch.optim as optim\n",
    "import torchvision"
   ]
  },
  {
   "cell_type": "code",
   "execution_count": 4,
   "id": "ff12acfb",
   "metadata": {},
   "outputs": [],
   "source": [
    "from tqdm import tqdm"
   ]
  },
  {
   "cell_type": "code",
   "execution_count": 5,
   "id": "bef85a5c",
   "metadata": {},
   "outputs": [],
   "source": [
    "from bptt_tgeb_mnist_architecture import *"
   ]
  },
  {
   "cell_type": "markdown",
   "id": "1e9874fc",
   "metadata": {},
   "source": [
    "#### Test for CUDA"
   ]
  },
  {
   "cell_type": "code",
   "execution_count": 6,
   "id": "fd248a0b",
   "metadata": {},
   "outputs": [
    {
     "name": "stdout",
     "output_type": "stream",
     "text": [
      "No GPU, training on CPU\n"
     ]
    }
   ],
   "source": [
    "train_on_gpu = torch.cuda.is_available()\n",
    "\n",
    "if not train_on_gpu:\n",
    "    print('No GPU, training on CPU')\n",
    "    dev = torch.device('cpu')\n",
    "else:\n",
    "    print('GPU found, training on GPU')\n",
    "    dev = torch.device('cuda')"
   ]
  },
  {
   "cell_type": "markdown",
   "id": "09adf09b",
   "metadata": {},
   "source": [
    "#### Load MNIST"
   ]
  },
  {
   "cell_type": "code",
   "execution_count": 7,
   "id": "f80ee06c",
   "metadata": {},
   "outputs": [],
   "source": [
    "## Make sure batch_size = 1 for now!!\n",
    "\n",
    "def load_mnist(batch_size=1, shuffle_train=True):\n",
    "    transform = torchvision.transforms.Compose(\n",
    "        [torchvision.transforms.ToTensor(),\n",
    "        torchvision.transforms.Normalize((0.5,), (0.5,))])\n",
    "    train_set = torchvision.datasets.MNIST(\"../data\", train=True, download=True, transform=transform)\n",
    "    test_set = torchvision.datasets.MNIST(\"../data\", train=False, download=True, transform=transform)\n",
    "    train_loader = torch.utils.data.DataLoader(train_set, batch_size=batch_size, shuffle=shuffle_train)\n",
    "    test_loader = torch.utils.data.DataLoader(test_set, batch_size=batch_size, shuffle=False)\n",
    "    return train_loader, test_loader"
   ]
  },
  {
   "cell_type": "code",
   "execution_count": 8,
   "id": "8ccd7e7f",
   "metadata": {},
   "outputs": [],
   "source": [
    "mnist_train_loader, mnist_test_loader = load_mnist()"
   ]
  },
  {
   "cell_type": "markdown",
   "id": "eb715778",
   "metadata": {},
   "source": [
    "#### Architectural Initialisations"
   ]
  },
  {
   "cell_type": "code",
   "execution_count": 9,
   "id": "0a5019c4",
   "metadata": {},
   "outputs": [],
   "source": [
    "n_classes = 10"
   ]
  },
  {
   "cell_type": "code",
   "execution_count": 10,
   "id": "db7800b4",
   "metadata": {},
   "outputs": [],
   "source": [
    "input_dim = 784\n",
    "hidden_dim = 100\n",
    "output_dim = 1"
   ]
  },
  {
   "cell_type": "code",
   "execution_count": 11,
   "id": "864da76a",
   "metadata": {},
   "outputs": [],
   "source": [
    "## Gating vector\n",
    "tvec_hh = torch.zeros(n_classes,hidden_dim)\n",
    "for ii in range(n_classes):\n",
    "    t_half = torch.randint(0, 2, (1, hidden_dim//2)).float()*2 - 1\n",
    "    tvec_hh[ii,::2] = t_half\n",
    "    tvec_hh[ii,1::2] = -t_half"
   ]
  },
  {
   "cell_type": "code",
   "execution_count": 12,
   "id": "1c9bf2d3",
   "metadata": {},
   "outputs": [],
   "source": [
    "# ## Gating vector\n",
    "# tvec_ih = torch.zeros(n_classes,hidden_dim)\n",
    "# for ii in range(n_classes):\n",
    "#     t_half = torch.randint(0, 2, (1, hidden_dim//2)).float()*2 - 1\n",
    "#     tvec_ih[ii,::2] = t_half\n",
    "#     tvec_ih[ii,1::2] = -t_half"
   ]
  },
  {
   "cell_type": "code",
   "execution_count": 13,
   "id": "789d6164",
   "metadata": {},
   "outputs": [],
   "source": [
    "tvec_ih = tvec_hh"
   ]
  },
  {
   "cell_type": "markdown",
   "id": "8423c422",
   "metadata": {},
   "source": [
    "#### Architecture"
   ]
  },
  {
   "cell_type": "code",
   "execution_count": 14,
   "id": "e2d91fe9",
   "metadata": {},
   "outputs": [],
   "source": [
    "# cell = RNNModule(input_dim, hidden_dim, output_dim, tvec_ih, tvec_hh)\n",
    "# rnn = RNN(cell)"
   ]
  },
  {
   "cell_type": "markdown",
   "id": "68d7f680",
   "metadata": {},
   "source": [
    "#### Loss"
   ]
  },
  {
   "cell_type": "code",
   "execution_count": 15,
   "id": "07c61fae",
   "metadata": {},
   "outputs": [],
   "source": [
    "criterion_ce = nn.CrossEntropyLoss()"
   ]
  },
  {
   "cell_type": "markdown",
   "id": "9501a26e",
   "metadata": {},
   "source": [
    "#### Training loop"
   ]
  },
  {
   "cell_type": "code",
   "execution_count": 16,
   "id": "e0b51f1d",
   "metadata": {},
   "outputs": [],
   "source": [
    "# params = [rnn.cell.Wih]+[rnn.cell.Whh]+[rnn.cell.Woh]"
   ]
  },
  {
   "cell_type": "code",
   "execution_count": 17,
   "id": "5780331b",
   "metadata": {},
   "outputs": [],
   "source": [
    "# optimizer = optim.SGD(params, lr=5e-3)"
   ]
  },
  {
   "cell_type": "code",
   "execution_count": 18,
   "id": "f7cca401",
   "metadata": {},
   "outputs": [],
   "source": [
    "epochs = 10"
   ]
  },
  {
   "cell_type": "code",
   "execution_count": 19,
   "id": "051f7e70",
   "metadata": {},
   "outputs": [],
   "source": [
    "nRuns = 3"
   ]
  },
  {
   "cell_type": "code",
   "execution_count": 20,
   "id": "2d0bbb70",
   "metadata": {},
   "outputs": [],
   "source": [
    "train_losses = np.zeros((nRuns,epochs))\n",
    "train_acc = np.zeros((nRuns,epochs))\n",
    "\n",
    "acc_classes = np.zeros(n_classes)"
   ]
  },
  {
   "cell_type": "code",
   "execution_count": 21,
   "id": "0e3d09d4",
   "metadata": {},
   "outputs": [
    {
     "name": "stderr",
     "output_type": "stream",
     "text": [
      "100%|██████████| 10000/10000 [02:13<00:00, 74.96it/s]\n"
     ]
    },
    {
     "name": "stdout",
     "output_type": "stream",
     "text": [
      "Training loss: 2.1324407143235207\n",
      "Training acc: 0.2704\n"
     ]
    },
    {
     "name": "stderr",
     "output_type": "stream",
     "text": [
      "100%|██████████| 10000/10000 [01:13<00:00, 136.49it/s]\n"
     ]
    },
    {
     "name": "stdout",
     "output_type": "stream",
     "text": [
      "Training loss: 1.8075749909758567\n",
      "Training acc: 0.6097\n"
     ]
    },
    {
     "name": "stderr",
     "output_type": "stream",
     "text": [
      "100%|██████████| 10000/10000 [01:20<00:00, 124.78it/s]\n"
     ]
    },
    {
     "name": "stdout",
     "output_type": "stream",
     "text": [
      "Training loss: 1.6905937846302985\n",
      "Training acc: 0.7225\n"
     ]
    },
    {
     "name": "stderr",
     "output_type": "stream",
     "text": [
      "100%|██████████| 10000/10000 [01:23<00:00, 120.28it/s]\n"
     ]
    },
    {
     "name": "stdout",
     "output_type": "stream",
     "text": [
      "Training loss: 1.6522288741350173\n",
      "Training acc: 0.7738\n"
     ]
    },
    {
     "name": "stderr",
     "output_type": "stream",
     "text": [
      "100%|██████████| 10000/10000 [01:39<00:00, 100.42it/s]\n"
     ]
    },
    {
     "name": "stdout",
     "output_type": "stream",
     "text": [
      "Training loss: 1.6312007909059525\n",
      "Training acc: 0.8051\n"
     ]
    },
    {
     "name": "stderr",
     "output_type": "stream",
     "text": [
      "100%|██████████| 10000/10000 [01:42<00:00, 97.87it/s]\n"
     ]
    },
    {
     "name": "stdout",
     "output_type": "stream",
     "text": [
      "Training loss: 1.6231135908603669\n",
      "Training acc: 0.8051\n"
     ]
    },
    {
     "name": "stderr",
     "output_type": "stream",
     "text": [
      "100%|██████████| 10000/10000 [01:40<00:00, 99.32it/s]\n"
     ]
    },
    {
     "name": "stdout",
     "output_type": "stream",
     "text": [
      "Training loss: 1.6188625543951989\n",
      "Training acc: 0.7772\n"
     ]
    },
    {
     "name": "stderr",
     "output_type": "stream",
     "text": [
      "100%|██████████| 10000/10000 [01:57<00:00, 85.33it/s]\n"
     ]
    },
    {
     "name": "stdout",
     "output_type": "stream",
     "text": [
      "Training loss: 1.6254006400585175\n",
      "Training acc: 0.7652\n"
     ]
    },
    {
     "name": "stderr",
     "output_type": "stream",
     "text": [
      "100%|██████████| 10000/10000 [01:52<00:00, 88.68it/s]\n"
     ]
    },
    {
     "name": "stdout",
     "output_type": "stream",
     "text": [
      "Training loss: 1.6385094878792763\n",
      "Training acc: 0.7539\n"
     ]
    },
    {
     "name": "stderr",
     "output_type": "stream",
     "text": [
      "100%|██████████| 10000/10000 [01:45<00:00, 94.83it/s]\n"
     ]
    },
    {
     "name": "stdout",
     "output_type": "stream",
     "text": [
      "Training loss: 1.6325308441758155\n",
      "Training acc: 0.7055\n"
     ]
    },
    {
     "name": "stderr",
     "output_type": "stream",
     "text": [
      "100%|██████████| 10000/10000 [01:44<00:00, 96.02it/s]\n"
     ]
    },
    {
     "name": "stdout",
     "output_type": "stream",
     "text": [
      "Training loss: 1.71136925085783\n",
      "Training acc: 0.6368\n"
     ]
    },
    {
     "name": "stderr",
     "output_type": "stream",
     "text": [
      "100%|██████████| 10000/10000 [01:48<00:00, 92.04it/s]\n"
     ]
    },
    {
     "name": "stdout",
     "output_type": "stream",
     "text": [
      "Training loss: 1.6442047278404235\n",
      "Training acc: 0.7243\n"
     ]
    },
    {
     "name": "stderr",
     "output_type": "stream",
     "text": [
      "100%|██████████| 10000/10000 [01:47<00:00, 93.44it/s]\n"
     ]
    },
    {
     "name": "stdout",
     "output_type": "stream",
     "text": [
      "Training loss: 1.6597280303001405\n",
      "Training acc: 0.7088\n"
     ]
    },
    {
     "name": "stderr",
     "output_type": "stream",
     "text": [
      "100%|██████████| 10000/10000 [01:39<00:00, 100.20it/s]\n"
     ]
    },
    {
     "name": "stdout",
     "output_type": "stream",
     "text": [
      "Training loss: 1.6295541038751602\n",
      "Training acc: 0.7381\n"
     ]
    },
    {
     "name": "stderr",
     "output_type": "stream",
     "text": [
      "100%|██████████| 10000/10000 [01:31<00:00, 108.79it/s]"
     ]
    },
    {
     "name": "stdout",
     "output_type": "stream",
     "text": [
      "Training loss: 1.6226059031367301\n",
      "Training acc: 0.7471\n"
     ]
    },
    {
     "name": "stderr",
     "output_type": "stream",
     "text": [
      "\n"
     ]
    }
   ],
   "source": [
    "for run in range(nRuns):\n",
    "    \n",
    "    cell = RNNModule(input_dim, hidden_dim, output_dim, tvec_ih, tvec_hh)\n",
    "    rnn = RNN(cell)\n",
    "    \n",
    "    params = [rnn.cell.Whh]+[rnn.cell.Woh]\n",
    "    \n",
    "    optimizer = optim.SGD(params, lr=5e-3)\n",
    "    \n",
    "    for e in range(epochs):\n",
    "        \n",
    "        running_loss = 0\n",
    "        running_acc = 0\n",
    "\n",
    "        for image, label in tqdm(mnist_test_loader):\n",
    "\n",
    "            ## Clear older gradients\n",
    "            optimizer.zero_grad()\n",
    "\n",
    "            ## Change to appropriate shapes!!\n",
    "            image = torch.squeeze(image).view(1,-1)\n",
    "            image = image.repeat(n_classes,1)\n",
    "\n",
    "            xs = image\n",
    "            hp = torch.zeros(cell.hid_dim) ## very first hidden state is the zero vector\n",
    "            ts = torch.LongTensor(label)\n",
    "\n",
    "            if train_on_gpu:\n",
    "                xs, hp, ts = xs.cuda(), hp.cuda(), ts.cuda()\n",
    "\n",
    "            ## Forward pass\n",
    "            ys, hs = rnn.forward(xs, hp)\n",
    "            loss = criterion_ce(ys.float().view(1, -1),ts)\n",
    "\n",
    "            ## Compute gradients w/ Backprop (autograd)\n",
    "            loss.backward()\n",
    "\n",
    "            ## update weights\n",
    "            optimizer.step()\n",
    "\n",
    "            ## update loss\n",
    "            running_loss += loss.item()\n",
    "\n",
    "            ##check if sample is correctly classified\n",
    "            pred_class = torch.argmax(ys)\n",
    "            true_class = ts\n",
    "            if (pred_class-true_class) == 0:\n",
    "                running_acc +=1\n",
    "            acc_classes[int(true_class[0])] += 1\n",
    "\n",
    "        \n",
    "        train_losses[run,e] = running_loss/len(mnist_test_loader)\n",
    "        train_acc[run,e] = running_acc/len(mnist_test_loader)\n",
    "        print(f\"Training loss: {running_loss/len(mnist_test_loader)}\")\n",
    "        print(f\"Training acc: {running_acc/len(mnist_test_loader)}\")"
   ]
  },
  {
   "cell_type": "code",
   "execution_count": 23,
   "id": "e0dff3e1",
   "metadata": {},
   "outputs": [],
   "source": [
    "np.save('train-losses-sub-weights-same-hh-ih-bptt',train_losses)\n",
    "np.save('train-accs-sub-weights-same-hh-ih-bptt',train_acc)"
   ]
  },
  {
   "cell_type": "code",
   "execution_count": null,
   "id": "109f3c0a",
   "metadata": {},
   "outputs": [],
   "source": []
  },
  {
   "cell_type": "code",
   "execution_count": null,
   "id": "1b911cba",
   "metadata": {},
   "outputs": [],
   "source": []
  },
  {
   "cell_type": "code",
   "execution_count": null,
   "id": "684263cd",
   "metadata": {},
   "outputs": [],
   "source": []
  },
  {
   "cell_type": "code",
   "execution_count": null,
   "id": "b95d589c",
   "metadata": {},
   "outputs": [],
   "source": []
  }
 ],
 "metadata": {
  "kernelspec": {
   "display_name": "Python 3 (ipykernel)",
   "language": "python",
   "name": "python3"
  },
  "language_info": {
   "codemirror_mode": {
    "name": "ipython",
    "version": 3
   },
   "file_extension": ".py",
   "mimetype": "text/x-python",
   "name": "python",
   "nbconvert_exporter": "python",
   "pygments_lexer": "ipython3",
   "version": "3.7.11"
  }
 },
 "nbformat": 4,
 "nbformat_minor": 5
}
