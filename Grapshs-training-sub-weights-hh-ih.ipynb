{
 "cells": [
  {
   "cell_type": "markdown",
   "id": "4429bcf3",
   "metadata": {},
   "source": [
    "#### Imports"
   ]
  },
  {
   "cell_type": "code",
   "execution_count": 1,
   "id": "adb0bfa2",
   "metadata": {},
   "outputs": [],
   "source": [
    "import numpy as np\n",
    "import matplotlib.pyplot as plt\n",
    "import os\n",
    "import sys\n",
    "sys.path.append(\"..\")"
   ]
  },
  {
   "cell_type": "code",
   "execution_count": 2,
   "id": "3369f108",
   "metadata": {},
   "outputs": [],
   "source": [
    "%matplotlib inline\n",
    "%config InlineBackend.figure_format='retina'"
   ]
  },
  {
   "cell_type": "code",
   "execution_count": 3,
   "id": "44c69d4e",
   "metadata": {},
   "outputs": [],
   "source": [
    "import torch\n",
    "from torch.autograd import Variable\n",
    "import torch.nn as nn\n",
    "import torch.nn.functional as F\n",
    "import torch.optim as optim\n",
    "import torchvision"
   ]
  },
  {
   "cell_type": "code",
   "execution_count": 4,
   "id": "69973f36",
   "metadata": {},
   "outputs": [],
   "source": [
    "from tqdm import tqdm"
   ]
  },
  {
   "cell_type": "code",
   "execution_count": 5,
   "id": "211b037d",
   "metadata": {},
   "outputs": [],
   "source": [
    "from bptt_tgeb_mnist_architecture import *"
   ]
  },
  {
   "cell_type": "markdown",
   "id": "b7ddd2ff",
   "metadata": {},
   "source": [
    "#### Test for CUDA"
   ]
  },
  {
   "cell_type": "code",
   "execution_count": 6,
   "id": "4d857775",
   "metadata": {},
   "outputs": [
    {
     "name": "stdout",
     "output_type": "stream",
     "text": [
      "No GPU, training on CPU\n"
     ]
    }
   ],
   "source": [
    "train_on_gpu = torch.cuda.is_available()\n",
    "\n",
    "if not train_on_gpu:\n",
    "    print('No GPU, training on CPU')\n",
    "    dev = torch.device('cpu')\n",
    "else:\n",
    "    print('GPU found, training on GPU')\n",
    "    dev = torch.device('cuda')"
   ]
  },
  {
   "cell_type": "markdown",
   "id": "9ed45684",
   "metadata": {},
   "source": [
    "#### Load MNIST"
   ]
  },
  {
   "cell_type": "code",
   "execution_count": 7,
   "id": "f63aa956",
   "metadata": {},
   "outputs": [],
   "source": [
    "## Make sure batch_size = 1 for now!!\n",
    "\n",
    "def load_mnist(batch_size=1, shuffle_train=True):\n",
    "    transform = torchvision.transforms.Compose(\n",
    "        [torchvision.transforms.ToTensor(),\n",
    "        torchvision.transforms.Normalize((0.5,), (0.5,))])\n",
    "    train_set = torchvision.datasets.MNIST(\"../data\", train=True, download=True, transform=transform)\n",
    "    test_set = torchvision.datasets.MNIST(\"../data\", train=False, download=True, transform=transform)\n",
    "    train_loader = torch.utils.data.DataLoader(train_set, batch_size=batch_size, shuffle=shuffle_train)\n",
    "    test_loader = torch.utils.data.DataLoader(test_set, batch_size=batch_size, shuffle=False)\n",
    "    return train_loader, test_loader"
   ]
  },
  {
   "cell_type": "code",
   "execution_count": 8,
   "id": "f93f489b",
   "metadata": {},
   "outputs": [],
   "source": [
    "mnist_train_loader, mnist_test_loader = load_mnist()"
   ]
  },
  {
   "cell_type": "markdown",
   "id": "e88fab9c",
   "metadata": {},
   "source": [
    "#### Architectural Initialisations"
   ]
  },
  {
   "cell_type": "code",
   "execution_count": 9,
   "id": "3162225e",
   "metadata": {},
   "outputs": [],
   "source": [
    "n_classes = 10"
   ]
  },
  {
   "cell_type": "code",
   "execution_count": 10,
   "id": "a5592e5b",
   "metadata": {},
   "outputs": [],
   "source": [
    "input_dim = 784\n",
    "hidden_dim = 100\n",
    "output_dim = 1"
   ]
  },
  {
   "cell_type": "code",
   "execution_count": 11,
   "id": "723c152d",
   "metadata": {},
   "outputs": [],
   "source": [
    "## Gating vector\n",
    "tvec_hh = torch.zeros(n_classes,hidden_dim)\n",
    "for ii in range(n_classes):\n",
    "    t_half = torch.randint(0, 2, (1, hidden_dim//2)).float()*2 - 1\n",
    "    tvec_hh[ii,::2] = t_half\n",
    "    tvec_hh[ii,1::2] = -t_half"
   ]
  },
  {
   "cell_type": "code",
   "execution_count": 12,
   "id": "6b39cbf7",
   "metadata": {},
   "outputs": [],
   "source": [
    "## Gating vector\n",
    "tvec_ih = torch.zeros(n_classes,hidden_dim)\n",
    "for ii in range(n_classes):\n",
    "    t_half = torch.randint(0, 2, (1, hidden_dim//2)).float()*2 - 1\n",
    "    tvec_ih[ii,::2] = t_half\n",
    "    tvec_ih[ii,1::2] = -t_half"
   ]
  },
  {
   "cell_type": "code",
   "execution_count": 13,
   "id": "e2450540",
   "metadata": {},
   "outputs": [],
   "source": [
    "# tvec_ih = tvec_hh"
   ]
  },
  {
   "cell_type": "markdown",
   "id": "10d44aeb",
   "metadata": {},
   "source": [
    "#### Architecture"
   ]
  },
  {
   "cell_type": "code",
   "execution_count": 14,
   "id": "81d8631e",
   "metadata": {},
   "outputs": [],
   "source": [
    "# cell = RNNModule(input_dim, hidden_dim, output_dim, tvec_ih, tvec_hh)\n",
    "# rnn = RNN(cell)"
   ]
  },
  {
   "cell_type": "markdown",
   "id": "3f48bceb",
   "metadata": {},
   "source": [
    "#### Loss"
   ]
  },
  {
   "cell_type": "code",
   "execution_count": 15,
   "id": "47887409",
   "metadata": {},
   "outputs": [],
   "source": [
    "criterion_ce = nn.CrossEntropyLoss()"
   ]
  },
  {
   "cell_type": "markdown",
   "id": "0d4e9694",
   "metadata": {},
   "source": [
    "#### Training loop"
   ]
  },
  {
   "cell_type": "code",
   "execution_count": 16,
   "id": "7d4cd32f",
   "metadata": {},
   "outputs": [],
   "source": [
    "# params = [rnn.cell.Wih]+[rnn.cell.Whh]+[rnn.cell.Woh]"
   ]
  },
  {
   "cell_type": "code",
   "execution_count": 17,
   "id": "625fbe9a",
   "metadata": {},
   "outputs": [],
   "source": [
    "# optimizer = optim.SGD(params, lr=5e-3)"
   ]
  },
  {
   "cell_type": "code",
   "execution_count": 18,
   "id": "bddae87f",
   "metadata": {},
   "outputs": [],
   "source": [
    "epochs = 10"
   ]
  },
  {
   "cell_type": "code",
   "execution_count": 19,
   "id": "f7568cb6",
   "metadata": {},
   "outputs": [],
   "source": [
    "nRuns = 3"
   ]
  },
  {
   "cell_type": "code",
   "execution_count": 20,
   "id": "ffe323d6",
   "metadata": {},
   "outputs": [],
   "source": [
    "train_losses = np.zeros((nRuns,epochs))\n",
    "train_acc = np.zeros((nRuns,epochs))\n",
    "\n",
    "acc_classes = np.zeros(n_classes)"
   ]
  },
  {
   "cell_type": "code",
   "execution_count": 21,
   "id": "fad6c0d5",
   "metadata": {},
   "outputs": [
    {
     "name": "stderr",
     "output_type": "stream",
     "text": [
      "100%|██████████| 10000/10000 [01:43<00:00, 96.48it/s]\n"
     ]
    },
    {
     "name": "stdout",
     "output_type": "stream",
     "text": [
      "Training loss: 2.1470159982562067\n",
      "Training acc: 0.3198\n"
     ]
    },
    {
     "name": "stderr",
     "output_type": "stream",
     "text": [
      "100%|██████████| 10000/10000 [01:17<00:00, 128.22it/s]\n"
     ]
    },
    {
     "name": "stdout",
     "output_type": "stream",
     "text": [
      "Training loss: 1.8462618626713754\n",
      "Training acc: 0.5333\n"
     ]
    },
    {
     "name": "stderr",
     "output_type": "stream",
     "text": [
      "100%|██████████| 10000/10000 [01:21<00:00, 123.10it/s]\n"
     ]
    },
    {
     "name": "stdout",
     "output_type": "stream",
     "text": [
      "Training loss: 1.7458268641352654\n",
      "Training acc: 0.621\n"
     ]
    },
    {
     "name": "stderr",
     "output_type": "stream",
     "text": [
      "100%|██████████| 10000/10000 [01:40<00:00, 99.10it/s] \n"
     ]
    },
    {
     "name": "stdout",
     "output_type": "stream",
     "text": [
      "Training loss: 1.6905132331252097\n",
      "Training acc: 0.7363\n"
     ]
    },
    {
     "name": "stderr",
     "output_type": "stream",
     "text": [
      "100%|██████████| 10000/10000 [01:43<00:00, 96.57it/s]\n"
     ]
    },
    {
     "name": "stdout",
     "output_type": "stream",
     "text": [
      "Training loss: 1.6614133506774902\n",
      "Training acc: 0.7887\n"
     ]
    },
    {
     "name": "stderr",
     "output_type": "stream",
     "text": [
      "100%|██████████| 10000/10000 [01:42<00:00, 97.17it/s] \n"
     ]
    },
    {
     "name": "stdout",
     "output_type": "stream",
     "text": [
      "Training loss: 1.644657049381733\n",
      "Training acc: 0.7993\n"
     ]
    },
    {
     "name": "stderr",
     "output_type": "stream",
     "text": [
      "100%|██████████| 10000/10000 [01:46<00:00, 94.25it/s]\n"
     ]
    },
    {
     "name": "stdout",
     "output_type": "stream",
     "text": [
      "Training loss: 1.6291710914373398\n",
      "Training acc: 0.8215\n"
     ]
    },
    {
     "name": "stderr",
     "output_type": "stream",
     "text": [
      "100%|██████████| 10000/10000 [01:44<00:00, 95.24it/s]\n"
     ]
    },
    {
     "name": "stdout",
     "output_type": "stream",
     "text": [
      "Training loss: 1.6231127940893173\n",
      "Training acc: 0.8181\n"
     ]
    },
    {
     "name": "stderr",
     "output_type": "stream",
     "text": [
      "100%|██████████| 10000/10000 [01:42<00:00, 97.11it/s]\n"
     ]
    },
    {
     "name": "stdout",
     "output_type": "stream",
     "text": [
      "Training loss: 1.6138138742923736\n",
      "Training acc: 0.8296\n"
     ]
    },
    {
     "name": "stderr",
     "output_type": "stream",
     "text": [
      "100%|██████████| 10000/10000 [01:50<00:00, 90.34it/s]\n"
     ]
    },
    {
     "name": "stdout",
     "output_type": "stream",
     "text": [
      "Training loss: 1.6087224274396896\n",
      "Training acc: 0.8213\n"
     ]
    },
    {
     "name": "stderr",
     "output_type": "stream",
     "text": [
      "100%|██████████| 10000/10000 [01:48<00:00, 92.06it/s]\n"
     ]
    },
    {
     "name": "stdout",
     "output_type": "stream",
     "text": [
      "Training loss: 2.15535080589056\n",
      "Training acc: 0.3739\n"
     ]
    },
    {
     "name": "stderr",
     "output_type": "stream",
     "text": [
      "100%|██████████| 10000/10000 [01:46<00:00, 93.81it/s] \n"
     ]
    },
    {
     "name": "stdout",
     "output_type": "stream",
     "text": [
      "Training loss: 1.8105514201521873\n",
      "Training acc: 0.6067\n"
     ]
    },
    {
     "name": "stderr",
     "output_type": "stream",
     "text": [
      "100%|██████████| 10000/10000 [01:42<00:00, 97.88it/s]\n"
     ]
    },
    {
     "name": "stdout",
     "output_type": "stream",
     "text": [
      "Training loss: 1.6284765392780305\n",
      "Training acc: 0.8121\n"
     ]
    },
    {
     "name": "stderr",
     "output_type": "stream",
     "text": [
      "100%|██████████| 10000/10000 [01:47<00:00, 92.80it/s]\n"
     ]
    },
    {
     "name": "stdout",
     "output_type": "stream",
     "text": [
      "Training loss: 1.6126771145224572\n",
      "Training acc: 0.8325\n"
     ]
    },
    {
     "name": "stderr",
     "output_type": "stream",
     "text": [
      "100%|██████████| 10000/10000 [01:56<00:00, 85.66it/s]\n"
     ]
    },
    {
     "name": "stdout",
     "output_type": "stream",
     "text": [
      "Training loss: 1.5999619376778602\n",
      "Training acc: 0.8368\n"
     ]
    },
    {
     "name": "stderr",
     "output_type": "stream",
     "text": [
      "100%|██████████| 10000/10000 [01:46<00:00, 93.96it/s] \n"
     ]
    },
    {
     "name": "stdout",
     "output_type": "stream",
     "text": [
      "Training loss: 1.632600198531151\n",
      "Training acc: 0.8179\n"
     ]
    },
    {
     "name": "stderr",
     "output_type": "stream",
     "text": [
      "100%|██████████| 10000/10000 [01:47<00:00, 93.40it/s]\n"
     ]
    },
    {
     "name": "stdout",
     "output_type": "stream",
     "text": [
      "Training loss: 1.6139769778847695\n",
      "Training acc: 0.8312\n"
     ]
    },
    {
     "name": "stderr",
     "output_type": "stream",
     "text": [
      "100%|██████████| 10000/10000 [01:38<00:00, 101.98it/s]\n"
     ]
    },
    {
     "name": "stdout",
     "output_type": "stream",
     "text": [
      "Training loss: 1.6075553658127786\n",
      "Training acc: 0.826\n"
     ]
    },
    {
     "name": "stderr",
     "output_type": "stream",
     "text": [
      "100%|██████████| 10000/10000 [01:27<00:00, 114.17it/s]"
     ]
    },
    {
     "name": "stdout",
     "output_type": "stream",
     "text": [
      "Training loss: 1.6024482870697976\n",
      "Training acc: 0.8321\n"
     ]
    },
    {
     "name": "stderr",
     "output_type": "stream",
     "text": [
      "\n"
     ]
    }
   ],
   "source": [
    "for run in range(nRuns):\n",
    "    \n",
    "    cell = RNNModule(input_dim, hidden_dim, output_dim, tvec_ih, tvec_hh)\n",
    "    rnn = RNN(cell)\n",
    "    \n",
    "    params = [rnn.cell.Whh]+[rnn.cell.Woh]\n",
    "    \n",
    "    optimizer = optim.SGD(params, lr=5e-3)\n",
    "    \n",
    "    for e in range(epochs):\n",
    "        \n",
    "        running_loss = 0\n",
    "        running_acc = 0\n",
    "\n",
    "        for image, label in tqdm(mnist_test_loader):\n",
    "\n",
    "            ## Clear older gradients\n",
    "            optimizer.zero_grad()\n",
    "\n",
    "            ## Change to appropriate shapes!!\n",
    "            image = torch.squeeze(image).view(1,-1)\n",
    "            image = image.repeat(n_classes,1)\n",
    "\n",
    "            xs = image\n",
    "            hp = torch.zeros(cell.hid_dim) ## very first hidden state is the zero vector\n",
    "            ts = torch.LongTensor(label)\n",
    "\n",
    "            if train_on_gpu:\n",
    "                xs, hp, ts = xs.cuda(), hp.cuda(), ts.cuda()\n",
    "\n",
    "            ## Forward pass\n",
    "            ys, hs = rnn.forward(xs, hp)\n",
    "            loss = criterion_ce(ys.float().view(1, -1),ts)\n",
    "\n",
    "            ## Compute gradients w/ Backprop (autograd)\n",
    "            loss.backward()\n",
    "\n",
    "            ## update weights\n",
    "            optimizer.step()\n",
    "\n",
    "            ## update loss\n",
    "            running_loss += loss.item()\n",
    "\n",
    "            ##check if sample is correctly classified\n",
    "            pred_class = torch.argmax(ys)\n",
    "            true_class = ts\n",
    "            if (pred_class-true_class) == 0:\n",
    "                running_acc +=1\n",
    "            acc_classes[int(true_class[0])] += 1\n",
    "\n",
    "        \n",
    "        train_losses[run,e] = running_loss/len(mnist_test_loader)\n",
    "        train_acc[run,e] = running_acc/len(mnist_test_loader)\n",
    "        print(f\"Training loss: {running_loss/len(mnist_test_loader)}\")\n",
    "        print(f\"Training acc: {running_acc/len(mnist_test_loader)}\")"
   ]
  },
  {
   "cell_type": "code",
   "execution_count": 23,
   "id": "9379dc68",
   "metadata": {},
   "outputs": [],
   "source": [
    "np.save('train-losses-sub-weights-hh-ih-bptt',train_losses)\n",
    "np.save('train-accs-sub-weights-hh-ih-bptt',train_acc)"
   ]
  },
  {
   "cell_type": "code",
   "execution_count": null,
   "id": "63b24dbe",
   "metadata": {},
   "outputs": [],
   "source": []
  },
  {
   "cell_type": "code",
   "execution_count": null,
   "id": "5997231c",
   "metadata": {},
   "outputs": [],
   "source": []
  },
  {
   "cell_type": "code",
   "execution_count": null,
   "id": "f7277761",
   "metadata": {},
   "outputs": [],
   "source": []
  },
  {
   "cell_type": "code",
   "execution_count": null,
   "id": "c448c906",
   "metadata": {},
   "outputs": [],
   "source": []
  }
 ],
 "metadata": {
  "kernelspec": {
   "display_name": "Python 3 (ipykernel)",
   "language": "python",
   "name": "python3"
  },
  "language_info": {
   "codemirror_mode": {
    "name": "ipython",
    "version": 3
   },
   "file_extension": ".py",
   "mimetype": "text/x-python",
   "name": "python",
   "nbconvert_exporter": "python",
   "pygments_lexer": "ipython3",
   "version": "3.7.11"
  }
 },
 "nbformat": 4,
 "nbformat_minor": 5
}
