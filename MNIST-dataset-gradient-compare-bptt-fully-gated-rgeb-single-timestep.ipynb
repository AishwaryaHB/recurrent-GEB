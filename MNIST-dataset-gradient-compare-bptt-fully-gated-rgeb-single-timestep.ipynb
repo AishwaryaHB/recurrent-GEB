{
 "cells": [
  {
   "cell_type": "markdown",
   "id": "ede197e5",
   "metadata": {},
   "source": [
    "#### Imports"
   ]
  },
  {
   "cell_type": "code",
   "execution_count": 1,
   "id": "c89b4d8c",
   "metadata": {},
   "outputs": [],
   "source": [
    "import numpy as np\n",
    "import matplotlib.pyplot as plt\n",
    "import os\n",
    "import sys\n",
    "sys.path.append(\"..\")"
   ]
  },
  {
   "cell_type": "code",
   "execution_count": 2,
   "id": "5f86077a",
   "metadata": {},
   "outputs": [],
   "source": [
    "%matplotlib inline\n",
    "%config InlineBackend.figure_format='retina'"
   ]
  },
  {
   "cell_type": "code",
   "execution_count": 3,
   "id": "6c606816",
   "metadata": {},
   "outputs": [],
   "source": [
    "import torch\n",
    "from torch.autograd import Variable\n",
    "import torch.nn as nn\n",
    "import torch.nn.functional as F\n",
    "import torch.optim as optim\n",
    "import torchvision"
   ]
  },
  {
   "cell_type": "code",
   "execution_count": 4,
   "id": "3b3e8f4f",
   "metadata": {},
   "outputs": [],
   "source": [
    "from tqdm import tqdm"
   ]
  },
  {
   "cell_type": "code",
   "execution_count": 5,
   "id": "607accba",
   "metadata": {},
   "outputs": [],
   "source": [
    "from bptt_tgeb_mnist_architecture import *"
   ]
  },
  {
   "cell_type": "markdown",
   "id": "1c7b22af",
   "metadata": {},
   "source": [
    "#### Test for CUDA"
   ]
  },
  {
   "cell_type": "code",
   "execution_count": 6,
   "id": "9ba2ce08",
   "metadata": {},
   "outputs": [
    {
     "name": "stdout",
     "output_type": "stream",
     "text": [
      "No GPU, training on CPU\n"
     ]
    }
   ],
   "source": [
    "train_on_gpu = torch.cuda.is_available()\n",
    "\n",
    "if not train_on_gpu:\n",
    "    print('No GPU, training on CPU')\n",
    "    dev = torch.device('cpu')\n",
    "else:\n",
    "    print('GPU found, training on GPU')\n",
    "    dev = torch.device('cuda')"
   ]
  },
  {
   "cell_type": "markdown",
   "id": "69f2b541",
   "metadata": {},
   "source": [
    "#### Load MNIST"
   ]
  },
  {
   "cell_type": "code",
   "execution_count": 7,
   "id": "d548a6dc",
   "metadata": {},
   "outputs": [],
   "source": [
    "## Make sure batch_size = 1 for now!!\n",
    "\n",
    "def load_mnist(batch_size=1, shuffle_train=True):\n",
    "    transform = torchvision.transforms.Compose(\n",
    "        [torchvision.transforms.ToTensor(),\n",
    "        torchvision.transforms.Normalize((0.5,), (0.5,))])\n",
    "    train_set = torchvision.datasets.MNIST(\"../data\", train=True, download=True, transform=transform)\n",
    "    test_set = torchvision.datasets.MNIST(\"../data\", train=False, download=True, transform=transform)\n",
    "    train_loader = torch.utils.data.DataLoader(train_set, batch_size=batch_size, shuffle=shuffle_train)\n",
    "    test_loader = torch.utils.data.DataLoader(test_set, batch_size=batch_size, shuffle=False)\n",
    "    return train_loader, test_loader"
   ]
  },
  {
   "cell_type": "code",
   "execution_count": 8,
   "id": "98a3feae",
   "metadata": {},
   "outputs": [],
   "source": [
    "mnist_train_loader, mnist_test_loader = load_mnist()"
   ]
  },
  {
   "cell_type": "markdown",
   "id": "94eae220",
   "metadata": {},
   "source": [
    "#### Architectural initialisations"
   ]
  },
  {
   "cell_type": "code",
   "execution_count": 9,
   "id": "7cca50f3",
   "metadata": {},
   "outputs": [],
   "source": [
    "n_classes = 1"
   ]
  },
  {
   "cell_type": "code",
   "execution_count": 10,
   "id": "4512e658",
   "metadata": {},
   "outputs": [],
   "source": [
    "input_dim = 784\n",
    "hidden_dim = 100\n",
    "output_dim = 1"
   ]
  },
  {
   "cell_type": "code",
   "execution_count": 11,
   "id": "d22c9640",
   "metadata": {},
   "outputs": [],
   "source": [
    "## Gating vector\n",
    "tvec_hh = torch.zeros(n_classes,hidden_dim)\n",
    "for ii in range(n_classes):\n",
    "    t_half = torch.randint(0, 2, (1, hidden_dim//2)).float()*2 - 1\n",
    "    tvec_hh[ii,::2] = t_half\n",
    "    tvec_hh[ii,1::2] = -t_half"
   ]
  },
  {
   "cell_type": "code",
   "execution_count": 12,
   "id": "f4d6b73e",
   "metadata": {},
   "outputs": [],
   "source": [
    "tvec_ih = tvec_hh"
   ]
  },
  {
   "cell_type": "markdown",
   "id": "a69f6be7",
   "metadata": {},
   "source": [
    "#### Architecture"
   ]
  },
  {
   "cell_type": "code",
   "execution_count": 13,
   "id": "c6aca40b",
   "metadata": {},
   "outputs": [],
   "source": [
    "cell = RNNModule(input_dim, hidden_dim, output_dim, tvec_ih, tvec_hh)\n",
    "rnn = RNN(cell)"
   ]
  },
  {
   "cell_type": "markdown",
   "id": "590043bd",
   "metadata": {},
   "source": [
    "#### Loss"
   ]
  },
  {
   "cell_type": "code",
   "execution_count": 14,
   "id": "e780b7eb",
   "metadata": {},
   "outputs": [],
   "source": [
    "def compute_loss(ys, ts):\n",
    "    return 0.5 * torch.sum((ys - ts)**2)"
   ]
  },
  {
   "cell_type": "markdown",
   "id": "71bdc17e",
   "metadata": {},
   "source": [
    "#### Clip really small magnitude gradients that are likely numerical errors"
   ]
  },
  {
   "cell_type": "code",
   "execution_count": 15,
   "id": "ee79d71f",
   "metadata": {},
   "outputs": [],
   "source": [
    "def clip_micro_grads(grad_tensor, minVal=-1e-7, maxVal=1e-7):\n",
    "    grad_tensor[grad_tensor==torch.clamp(grad_tensor, minVal, maxVal)] = 0\n",
    "    return grad_tensor"
   ]
  },
  {
   "cell_type": "code",
   "execution_count": 16,
   "id": "2f1d6297",
   "metadata": {},
   "outputs": [],
   "source": [
    "def frac_match(diff_mat):\n",
    "    totDim = np.prod(diff_mat.shape)\n",
    "    totMatch = len(np.where(diff_mat==0)[0])\n",
    "    return totMatch/totDim"
   ]
  },
  {
   "cell_type": "markdown",
   "id": "a2c2c838",
   "metadata": {},
   "source": [
    "#### Training-esque loop"
   ]
  },
  {
   "cell_type": "code",
   "execution_count": 17,
   "id": "4359ee97",
   "metadata": {},
   "outputs": [],
   "source": [
    "loader_choice = 'test'"
   ]
  },
  {
   "cell_type": "code",
   "execution_count": 18,
   "id": "10e1225a",
   "metadata": {},
   "outputs": [],
   "source": [
    "if loader_choice == 'test':\n",
    "    loader = mnist_test_loader\n",
    "    len_dataset = 10000\n",
    "elif loader_choice == 'train':\n",
    "    loader = mnist_train_loader\n",
    "    len_dataset = 60000"
   ]
  },
  {
   "cell_type": "code",
   "execution_count": 19,
   "id": "e5f8e9b1",
   "metadata": {},
   "outputs": [],
   "source": [
    "W_ih_frac = np.zeros((len_dataset,n_classes))\n",
    "W_hh_frac = np.zeros((len_dataset,n_classes))\n",
    "W_oh_frac = np.zeros((len_dataset,n_classes))"
   ]
  },
  {
   "cell_type": "code",
   "execution_count": 20,
   "id": "c75f3743",
   "metadata": {},
   "outputs": [],
   "source": [
    "# Wih_bp = np.zeros((len_dataset,n_classes,hidden_dim,input_dim),dtype='float32')\n",
    "# Whh_bp = np.zeros((len_dataset,n_classes,hidden_dim,hidden_dim),dtype='float32')\n",
    "# Woh_bp = np.zeros((len_dataset,n_classes,output_dim,hidden_dim),dtype='float32')\n",
    "\n",
    "# Wih_geb = np.zeros((len_dataset,n_classes,hidden_dim,input_dim),dtype='float32')\n",
    "# Whh_geb = np.zeros((len_dataset,n_classes,hidden_dim,hidden_dim),dtype='float32')\n",
    "# Woh_geb = np.zeros((len_dataset,n_classes,output_dim,hidden_dim),dtype='float32')"
   ]
  },
  {
   "cell_type": "code",
   "execution_count": 21,
   "id": "baa23d1f",
   "metadata": {},
   "outputs": [
    {
     "name": "stderr",
     "output_type": "stream",
     "text": [
      "10000it [00:40, 244.49it/s]\n"
     ]
    }
   ],
   "source": [
    "for ii, (image,label) in tqdm(enumerate(loader)):\n",
    "    \n",
    "    ## Change to appropriate shapes!!\n",
    "    image = torch.squeeze(image).view(1,-1)\n",
    "    image = image.repeat(n_classes,1)\n",
    "\n",
    "    xs = image\n",
    "    hp = torch.zeros(cell.hid_dim) ## very first hidden state is the zero vector\n",
    "    ts = label\n",
    "    \n",
    "    ## Forward pass\n",
    "    ys, hs = rnn.forward(xs, hp)\n",
    "    loss = compute_loss(ys, ts)\n",
    "#     print(loss)\n",
    "    \n",
    "    ## Compute gradients w/ Backprop (autograd)\n",
    "    loss.backward()\n",
    "    \n",
    "    ## Manual gradients\n",
    "    ## Valid only for MSE!!\n",
    "    ys_grad = (ys - ts) ##why the abs??\n",
    "\n",
    "    with torch.no_grad():  # required so PyTorch won't raise error\n",
    "        rnn.cell.zero_grad()\n",
    "        rnn.backward(ys_grad, xs, hs)\n",
    "        \n",
    "    for kk in range(n_classes):\n",
    "        \n",
    "        Wih_bp = clip_micro_grads(rnn.cell.Wih_grad_all[kk])\n",
    "        Whh_bp = clip_micro_grads(rnn.cell.Whh_grad_all[kk])\n",
    "        Woh_bp = clip_micro_grads(rnn.cell.Woh_grad_all[kk])\n",
    "        \n",
    "        Wih_geb = clip_micro_grads(rnn.cell.Wih_grad_geb_all[kk])\n",
    "        Whh_geb = clip_micro_grads(rnn.cell.Whh_grad_geb_all[kk])\n",
    "        Woh_geb = clip_micro_grads(rnn.cell.Woh_grad_geb_all[kk])\n",
    "        \n",
    "        W_ih_frac[ii,kk] = frac_match(torch.sign(Wih_bp)-torch.sign(Wih_geb))\n",
    "        W_hh_frac[ii,kk] = frac_match(torch.sign(Whh_bp)-torch.sign(Whh_geb))\n",
    "        W_oh_frac[ii,kk] = frac_match(torch.sign(Woh_bp)-torch.sign(Woh_geb))\n",
    "        \n",
    "        if kk==0:\n",
    "            if W_hh_frac[ii,kk]<1:\n",
    "                print('Step 0',ii)"
   ]
  },
  {
   "cell_type": "code",
   "execution_count": 22,
   "id": "49ef787e",
   "metadata": {},
   "outputs": [],
   "source": [
    "# for ii, (image,label) in tqdm(enumerate(loader)):\n",
    "# #     if label[0] == 1:\n",
    "#     if ii ==  1554:\n",
    "#         print(label)\n",
    "#         plt.imshow(np.squeeze(image.numpy()))\n",
    "#         break"
   ]
  },
  {
   "cell_type": "code",
   "execution_count": 23,
   "id": "e3706d3d",
   "metadata": {},
   "outputs": [],
   "source": [
    "# len(np.where(W_ih_frac[:,0]==1)[0])"
   ]
  },
  {
   "cell_type": "markdown",
   "id": "0bb91cbc",
   "metadata": {},
   "source": [
    "#### Analyses"
   ]
  },
  {
   "cell_type": "code",
   "execution_count": 24,
   "id": "740667ac",
   "metadata": {},
   "outputs": [],
   "source": [
    "Wih_means = np.mean(W_ih_frac,axis=0)\n",
    "Whh_means = np.mean(W_hh_frac,axis=0)\n",
    "Woh_means = np.mean(W_oh_frac,axis=0)\n",
    "\n",
    "Wih_vars = np.var(W_ih_frac,axis=0)\n",
    "Whh_vars = np.var(W_hh_frac,axis=0)\n",
    "Woh_vars = np.var(W_oh_frac,axis=0)"
   ]
  },
  {
   "cell_type": "code",
   "execution_count": 34,
   "id": "5dbee4a7",
   "metadata": {},
   "outputs": [
    {
     "data": {
      "image/png": "[encoded data removed]",
      "text/plain": [
       "<Figure size 288x360 with 1 Axes>"
      ]
     },
     "metadata": {
      "image/png": {
       "height": 351,
       "width": 280
      },
      "needs_background": "light"
     },
     "output_type": "display_data"
    }
   ],
   "source": [
    "labels = ['T'+str(ii) for ii in range(1,n_classes+1)]\n",
    "\n",
    "x = np.arange(len(labels))  # the label locations\n",
    "width = 0.3  # the width of the bars\n",
    "c = 1.5 #maniplate spacing between stacks\n",
    "\n",
    "fig, ax = plt.subplots(figsize=(4,5))\n",
    "rects1 = ax.bar(c*x - width, Wih_means, width, yerr=Wih_vars, label='Wih')\n",
    "rects2 = ax.bar(c*x, Whh_means, width, yerr=Whh_vars, label='Whh')\n",
    "rects3 = ax.bar(c*x + width, Woh_means, width, yerr=Woh_vars, label='Woh')\n",
    "\n",
    "# Add some text for labels, title and custom x-axis tick labels, etc.\n",
    "ax.set_ylabel('Fraction gradient sign match')\n",
    "ax.set_xlabel('Time steps')\n",
    "# ax.set_title('Gradient sign match between T-GEB and T-BPTT')\n",
    "ax.set_title('T-GEB and T-BPTT')\n",
    "ax.set_xticks(c*x, labels)\n",
    "ax.legend(bbox_to_anchor=(1,1))\n",
    "\n",
    "\n",
    "fig.tight_layout()\n",
    "\n",
    "plt.show()"
   ]
  },
  {
   "cell_type": "code",
   "execution_count": null,
   "id": "bde78404",
   "metadata": {},
   "outputs": [],
   "source": []
  },
  {
   "cell_type": "code",
   "execution_count": 26,
   "id": "d7b0a2ad",
   "metadata": {},
   "outputs": [],
   "source": [
    "# samp = 124\n",
    "# timestep = 0\n",
    "\n",
    "# print(frac_match(Wih_bp[samp,timestep],Wih_geb[samp,timestep]))\n",
    "# print(frac_match(Whh_bp[samp,timestep],Whh_geb[samp,timestep]))\n",
    "# print(frac_match(Woh_bp[samp,timestep],Woh_geb[samp,timestep]))"
   ]
  },
  {
   "cell_type": "code",
   "execution_count": 27,
   "id": "7b5e11fd",
   "metadata": {},
   "outputs": [],
   "source": [
    "# np.where((Wih_bp[:,0]-Wih_geb[:,0]) == 0)[0]"
   ]
  },
  {
   "cell_type": "code",
   "execution_count": null,
   "id": "7ee75f98",
   "metadata": {},
   "outputs": [],
   "source": []
  }
 ],
 "metadata": {
  "kernelspec": {
   "display_name": "Python 3 (ipykernel)",
   "language": "python",
   "name": "python3"
  },
  "language_info": {
   "codemirror_mode": {
    "name": "ipython",
    "version": 3
   },
   "file_extension": ".py",
   "mimetype": "text/x-python",
   "name": "python",
   "nbconvert_exporter": "python",
   "pygments_lexer": "ipython3",
   "version": "3.7.11"
  }
 },
 "nbformat": 4,
 "nbformat_minor": 5
}
